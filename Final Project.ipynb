{
 "cells": [
  {
   "cell_type": "markdown",
   "metadata": {},
   "source": [
    "# Disaster Tweets: Project Intro\n",
    "### For this project, we will be using this data set of twitter post text, found on kaggle. The goal is to come up with an algorithm that most accuractely classifies a tweet as indicative of a real disaster or not a real disaster. "
   ]
  },
  {
   "cell_type": "code",
   "execution_count": 1,
   "metadata": {},
   "outputs": [
    {
     "name": "stderr",
     "output_type": "stream",
     "text": [
      "[nltk_data] Downloading package stopwords to\n",
      "[nltk_data]     /Users/benjamin.mok/nltk_data...\n",
      "[nltk_data]   Package stopwords is already up-to-date!\n",
      "[nltk_data] Downloading package punkt to\n",
      "[nltk_data]     /Users/benjamin.mok/nltk_data...\n",
      "[nltk_data]   Package punkt is already up-to-date!\n"
     ]
    }
   ],
   "source": [
    "%matplotlib inline\n",
    "\n",
    "# General libraries.\n",
    "import re\n",
    "import numpy as np\n",
    "import pandas as pd\n",
    "import matplotlib.pyplot as plt\n",
    "\n",
    "# SK-learn libraries for learning.\n",
    "from sklearn.pipeline import Pipeline\n",
    "from sklearn.neighbors import KNeighborsClassifier\n",
    "from sklearn.linear_model import LogisticRegression\n",
    "from sklearn.naive_bayes import BernoulliNB\n",
    "from sklearn.naive_bayes import MultinomialNB\n",
    "from sklearn.cluster import *\n",
    "from sklearn import metrics\n",
    "\n",
    "# SK-learn Decomp\n",
    "from sklearn.decomposition import TruncatedSVD\n",
    "from sklearn.decomposition import PCA\n",
    "\n",
    "# SK-learn libraries for feature extraction from text.\n",
    "from sklearn.feature_extraction.text import *\n",
    "\n",
    "# NLP processors\n",
    "import nltk\n",
    "from nltk.tokenize import TweetTokenizer\n",
    "from nltk.stem import WordNetLemmatizer\n",
    "from nltk.stem import PorterStemmer\n",
    "from nltk.tokenize import word_tokenize"
   ]
  },
  {
   "cell_type": "markdown",
   "metadata": {},
   "source": [
    "### First, we will read in the \"train\" dataset, which contains the correct labels. We will split the data 50/50 between train and dev (or test). For ease of analysis and text processing, the data will be further split into \"pos\" (label = 1) and \"neg\" (label = 0) dataframes and text only. "
   ]
  },
  {
   "cell_type": "code",
   "execution_count": 407,
   "metadata": {},
   "outputs": [
    {
     "name": "stdout",
     "output_type": "stream",
     "text": [
      "Some data metrics\n",
      "\n",
      "Shape of train data: (5438, 5)\n",
      "\n",
      "Missing data in each column:\n",
      "id             0\n",
      "keyword       61\n",
      "location    2533\n",
      "text           0\n",
      "target         0\n",
      "dtype: int64\n",
      "\n",
      "Number of disaster tweets:\n",
      "0    2996\n",
      "1    2442\n",
      "Name: target, dtype: int64\n"
     ]
    }
   ],
   "source": [
    "#read in data\n",
    "# df = pd.read_csv(r'C:\\Users\\lwu31\\OneDrive - JNJ\\Documents\\train.csv')\n",
    "df = pd.read_csv('data/nlp-getting-started/train.csv')\n",
    "# sample the data, acts as shuffling the data on row\n",
    "\n",
    "#50/50 split between train and dev\n",
    "# allocate more for traiing if we do it this way, i'll run some\n",
    "# analysis to see if my cluster bootstrap can imrpove the models we run.\n",
    "numtest = int(len(df)/3.5)\n",
    "df_train = df[numtest:].reset_index(drop=True)\n",
    "df_test = df[:int(numtest/2)].reset_index(drop=True)\n",
    "df_dev = df[int(numtest/2):numtest].reset_index(drop=True)\n",
    "\n",
    "train_data, train_label = df_train.text, df_train.target\n",
    "dev_data, dev_label = df_dev.text, df_dev.target\n",
    "test_data, test_label = df_test.text, df_test.target\n",
    "\n",
    "#split into disaster and non disaster data\n",
    "df_neg = df_train.loc[df_train.target == 0]\n",
    "df_pos = df_train.loc[df_train.target == 1]\n",
    "\n",
    "#split into disaster and nondisaster tweets only\n",
    "neg_text = df_neg.text\n",
    "pos_text = df_pos.text\n",
    "\n",
    "print(\"Some data metrics\\n\")\n",
    "print(\"Shape of train data:\", df_train.shape)\n",
    "print(\"\\nMissing data in each column:\\n\" + str(df.isnull().sum()))\n",
    "print(\"\\nNumber of disaster tweets:\\n\"+ str(train_label.value_counts()))"
   ]
  },
  {
   "cell_type": "markdown",
   "metadata": {},
   "source": [
    "### Because the available tags, keyword and location, are sparse and method of construction are unclear to us, we wanted to create new tags for the text that we may be able to train later on. "
   ]
  },
  {
   "cell_type": "code",
   "execution_count": 84,
   "metadata": {
    "scrolled": true
   },
   "outputs": [
    {
     "name": "stdout",
     "output_type": "stream",
     "text": [
      "     id             keyword        location  \\\n",
      "0  8367                ruin         Belfast   \n",
      "1  4164               drown             NaN   \n",
      "2  9232   suicide%20bombing             NaN   \n",
      "3  7587            outbreak  Fukuoka, Japan   \n",
      "4  8816              sirens       Hollywood   \n",
      "5  9673             tornado         Midwest   \n",
      "6  2538           collision             NaN   \n",
      "7   798              battle             NaN   \n",
      "8  7108            military          Alaska   \n",
      "9  7228  natural%20disaster             NaN   \n",
      "\n",
      "                                                text  target  \\\n",
      "0  And then I go a ruin it all with something awf...       0   \n",
      "1        @GraysonDolan only if u let me drown you ??       0   \n",
      "2  meek mill should join isis since he loves suic...       0   \n",
      "3  Families to sue over Legionnaires: More than 4...       1   \n",
      "4  @TravelElixir Any idea what's going on? I hear...       1   \n",
      "5  (OK)  Severe Thunderstorm Warning issued Augus...       1   \n",
      "6  my favorite lady came to our volunteer meeting...       1   \n",
      "7  Dragon Ball Z: Battle Of Gods (2014) - Rotten ...       0   \n",
      "8  Mike Magner Discusses A Trust Betrayed: http:/...       0   \n",
      "9  @ConnorFranta #AskConnor if you were a natural...       0   \n",
      "\n",
      "                             hashtag          mentions links  retweet  \\\n",
      "0                          [minions]                []   [t]    False   \n",
      "1                                 []    [GraysonDolan]    []    False   \n",
      "2                                 []                []    []    False   \n",
      "3              [News, check, follow]                []   [t]    False   \n",
      "4                                 []    [TravelElixir]    []    False   \n",
      "5                             [okwx]                []   [t]    False   \n",
      "6                                 []                []   [t]    False   \n",
      "7                                 []  [RottenTomatoes]   [t]    False   \n",
      "8  [military, veterans, environment]         [YouTube]   [t]    False   \n",
      "9                        [AskConnor]    [ConnorFranta]    []    False   \n",
      "\n",
      "   mentions_ind  hashtag_ind  links_ind  retweet_ind  \n",
      "0             0            1          1            0  \n",
      "1             1            0          0            0  \n",
      "2             0            0          0            0  \n",
      "3             0            1          1            0  \n",
      "4             1            0          0            0  \n",
      "5             0            1          1            0  \n",
      "6             0            0          1            0  \n",
      "7             1            0          1            0  \n",
      "8             1            1          1            0  \n",
      "9             1            1          0            0  \n"
     ]
    }
   ],
   "source": [
    "df_train['hashtag'] = df_train['text'].apply(lambda s: re.findall(r'#(\\w+)', s))\n",
    "df_train['mentions'] = df_train['text'].apply(lambda x: re.findall(r\"@(\\w+)\", x))\n",
    "df_train['links'] = df_train['text'].apply(lambda x: re.findall(r\"http:\\/\\/(\\w+)\", x))\n",
    "df_train['retweet'] = df_train['text'].apply(lambda x: \"rt\" in x.lower().split())\n",
    "\n",
    "df_train['mentions_ind'] = df_train.mentions.apply(lambda y: 0 if len(y)==0 else 1)\n",
    "df_train['hashtag_ind'] = df_train.hashtag.apply(lambda y: 0 if len(y)==0 else 1)\n",
    "df_train['links_ind'] = df_train.links.apply(lambda y: 0 if len(y)==0 else 1)\n",
    "df_train['retweet_ind'] = df_train.retweet.apply(lambda y: 0 if y == False else 1)\n",
    "\n",
    "print(df_train.head(10))"
   ]
  },
  {
   "cell_type": "markdown",
   "metadata": {},
   "source": [
    "In text classification problems, text pre-processing is a crucial part to prepping our data for analysis. This can be found in our text_clean function. Some pre-processing considerations we have made include:\n",
    "* removing numbers, symbols, and punctuation\n",
    "* standardizing to lowercase text\n",
    "* remove stop words\n",
    "* word stemming\n",
    "* trailing spaces"
   ]
  },
  {
   "cell_type": "code",
   "execution_count": 3,
   "metadata": {},
   "outputs": [],
   "source": [
    "def preprocess(text, method=None, tokenizer=None):\n",
    "    #remove line breaks\n",
    "    text = re.sub(r\"\\n\",\"\",text)\n",
    "\n",
    "    #convert to lowercase \n",
    "    text = text.lower()\n",
    "\n",
    "    #remove digits and currencies \n",
    "    text = re.sub(r\"\\d+\",\"\",text) \n",
    "    text = re.sub(r'[\\$\\d+\\d+\\$]', \"\", text)      \n",
    "\n",
    "    #remove dates \n",
    "    text = re.sub(r'\\d+[\\.\\/-]\\d+[\\.\\/-]\\d+', '', text)\n",
    "    text = re.sub(r'\\d+[\\.\\/-]\\d+[\\.\\/-]\\d+', '', text)\n",
    "    text = re.sub(r'\\d+[\\.\\/-]\\d+[\\.\\/-]\\d+', '', text)\n",
    "\n",
    "    #remove non-ascii\n",
    "    text = re.sub(r'[^\\x00-\\x7f]',r' ',text) \n",
    "\n",
    "    #remove punctuation\n",
    "    text = re.sub(r'[^\\w\\s]','',text) \n",
    "\n",
    "    #remove hyperlinks\n",
    "    #text = re.sub(r'https?:\\/\\/.*[\\r\\n]*', '', text)\n",
    "    text = re.sub(r'http\\S+', '', text, flags=re.MULTILINE)\n",
    "    \n",
    "    # remove trailing spaces\n",
    "    text = re.sub(r'[ \\t]+$','', text)\n",
    "    \n",
    "    if method.lower() == 'l':\n",
    "        lemmer = WordNetLemmatizer()\n",
    "        lemm_tokens = [lemmer.lemmatize(word) for word in tokenizer(text)]\n",
    "        return \" \".join(lemm_tokens)\n",
    "    \n",
    "    elif method.lower() == 's':\n",
    "        porter = PorterStemmer()\n",
    "        stem_tokens = [porter.stem(word) for word in tokenizer(text)]\n",
    "        return \" \".join(stem_tokens)\n",
    "    \n",
    "    return text\n",
    "\n",
    "    # remove stop words, yea don't remove stop words.\n",
    "    # filtered_tokens = [word for word in word_tokenize(text) if not word in stop_words]\n",
    "    # text = (\"\").join(filtered_tokens)"
   ]
  },
  {
   "cell_type": "markdown",
   "metadata": {},
   "source": [
    "#### Clean the data and strip"
   ]
  },
  {
   "cell_type": "markdown",
   "metadata": {},
   "source": [
    "### After the data has been cleaned and text pre-processed, we can begin exploring different algorithms. The three machine learning algorithms we will focus on are:\n",
    "* Naive Bayes\n",
    "* Logistic Regression\n",
    "* SVM\n"
   ]
  },
  {
   "cell_type": "code",
   "execution_count": null,
   "metadata": {},
   "outputs": [],
   "source": []
  }
 ],
 "metadata": {
  "kernelspec": {
   "display_name": "Python 3 (ipykernel)",
   "language": "python",
   "name": "python3"
  },
  "language_info": {
   "codemirror_mode": {
    "name": "ipython",
    "version": 3
   },
   "file_extension": ".py",
   "mimetype": "text/x-python",
   "name": "python",
   "nbconvert_exporter": "python",
   "pygments_lexer": "ipython3",
   "version": "3.8.9"
  }
 },
 "nbformat": 4,
 "nbformat_minor": 4
}
