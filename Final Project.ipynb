{
  "nbformat": 4,
  "nbformat_minor": 0,
  "metadata": {
    "kernelspec": {
      "display_name": "Python 3 (ipykernel)",
      "language": "python",
      "name": "python3"
    },
    "language_info": {
      "codemirror_mode": {
        "name": "ipython",
        "version": 3
      },
      "file_extension": ".py",
      "mimetype": "text/x-python",
      "name": "python",
      "nbconvert_exporter": "python",
      "pygments_lexer": "ipython3",
      "version": "3.8.9"
    },
    "colab": {
      "name": "Final Project.ipynb",
      "provenance": [],
      "include_colab_link": true
    }
  },
  "cells": [
    {
      "cell_type": "markdown",
      "metadata": {
        "id": "view-in-github",
        "colab_type": "text"
      },
      "source": [
        "<a href=\"https://colab.research.google.com/github/benon33/w207-final/blob/main/Final%20Project.ipynb\" target=\"_parent\"><img src=\"https://colab.research.google.com/assets/colab-badge.svg\" alt=\"Open In Colab\"/></a>"
      ]
    },
    {
      "cell_type": "markdown",
      "metadata": {
        "id": "06RwxdISKMHx"
      },
      "source": [
        "# Executive Summary \n",
        "##### **Context**: As smartphones have become more accessible across the world, social media outlets, such as Twitter, have become important means of communicating during times of an emergency. As a result, more organizations are interested in tracking conversations in this space to respond more quickly.\n",
        "\n",
        "**Problem**: However, a user's intent in a tweet isn't always clear. Words, such as \"ablaze\", can be used in multiple contexts. It can be descriptive of a sunset or it could be indicative of something more serious, like a forest fire. \n",
        "\n",
        "##### **Approach**: For this project, we will use a data set of twitter posts, found on [Kaggle](https://www.kaggle.com/c/nlp-getting-started). The goal is to identify an algorithm that most accuractely classifies a tweet as indicative of a real disaster or not a real disaster. "
      ]
    },
    {
      "cell_type": "code",
      "metadata": {
        "colab": {
          "base_uri": "https://localhost:8080/"
        },
        "id": "cF1EguFuKMH1",
        "outputId": "3b1f19ed-d7fd-4ebe-d42d-e9dfeecf0088"
      },
      "source": [
        "%matplotlib inline\n",
        "\n",
        "!sudo pip install geonamescache\n",
        "\n",
        "# General libraries.\n",
        "import re\n",
        "import numpy as np\n",
        "import pandas as pd\n",
        "import matplotlib.pyplot as plt\n",
        "import seaborn as sns\n",
        "\n",
        "# SK-learn libraries for learning.\n",
        "from sklearn.pipeline import Pipeline\n",
        "from sklearn.neighbors import KNeighborsClassifier\n",
        "from sklearn.linear_model import LogisticRegression\n",
        "from sklearn.naive_bayes import BernoulliNB\n",
        "from sklearn.naive_bayes import MultinomialNB\n",
        "from sklearn.cluster import *\n",
        "from sklearn import metrics\n",
        "\n",
        "# SK-learn Decomp\n",
        "from sklearn.decomposition import TruncatedSVD\n",
        "from sklearn.decomposition import PCA\n",
        "\n",
        "# SK-learn libraries for feature extraction from text.\n",
        "from sklearn.feature_extraction.text import *\n",
        "\n",
        "# NLP processors\n",
        "import nltk\n",
        "from nltk.tokenize import TweetTokenizer\n",
        "from nltk.stem import WordNetLemmatizer\n",
        "from nltk.stem import PorterStemmer\n",
        "from nltk.tokenize import sent_tokenize\n",
        "from nltk.corpus import stopwords\n",
        "nltk.download('stopwords')\n",
        "nltk.download('punkt')"
      ],
      "execution_count": 45,
      "outputs": [
        {
          "output_type": "stream",
          "name": "stdout",
          "text": [
            "Requirement already satisfied: geonamescache in /usr/local/lib/python3.7/dist-packages (1.3.0)\n",
            "[nltk_data] Downloading package stopwords to /root/nltk_data...\n",
            "[nltk_data]   Package stopwords is already up-to-date!\n",
            "[nltk_data] Downloading package punkt to /root/nltk_data...\n",
            "[nltk_data]   Package punkt is already up-to-date!\n"
          ]
        },
        {
          "output_type": "execute_result",
          "data": {
            "text/plain": [
              "True"
            ]
          },
          "metadata": {},
          "execution_count": 45
        }
      ]
    },
    {
      "cell_type": "code",
      "metadata": {
        "id": "tnACrp6CKMH2",
        "outputId": "c111b157-ebef-4c31-9d9c-883d18ad5f5a"
      },
      "source": [
        "# TODO: this package nltk.download(wordnet) is for lemmatize to work\n",
        "# The download did not work so we have to use the below code.. lol\n",
        "\n",
        "# Please run this code and SSL will pop up a window for you to choose a\n",
        "# Module to download, click 'all packages' and scroll down\n",
        "# and select 'wordnet'. You only need to download it once. \n",
        "# Not tested in Google Colab :3\n",
        "import ssl\n",
        "try:\n",
        "    _create_unverified_https_context = ssl._create_unverified_context\n",
        "except AttributeError:\n",
        "    pass\n",
        "else:\n",
        "    ssl._create_default_https_context = _create_unverified_https_context\n",
        "nltk.download()\n"
      ],
      "execution_count": null,
      "outputs": [
        {
          "name": "stdout",
          "output_type": "stream",
          "text": [
            "showing info https://raw.githubusercontent.com/nltk/nltk_data/gh-pages/index.xml\n"
          ]
        },
        {
          "data": {
            "text/plain": [
              "True"
            ]
          },
          "execution_count": 5,
          "metadata": {},
          "output_type": "execute_result"
        }
      ]
    },
    {
      "cell_type": "markdown",
      "metadata": {
        "id": "jG0zhV0rKMH4"
      },
      "source": [
        "# Exploratory Data Analysis: \n",
        "First, we will read in the \"train\" dataset, which contains the correct labels. We will split the data 50/50 between train and dev (or test). For ease of analysis and text processing, the data will be further split into \"pos\" (label = 1) and \"neg\" (label = 0) dataframes and text only. "
      ]
    },
    {
      "cell_type": "code",
      "metadata": {
        "colab": {
          "base_uri": "https://localhost:8080/",
          "height": 451
        },
        "id": "9QWu6xYaKMH4",
        "outputId": "088bff43-6341-4602-a9bf-97c381be257b"
      },
      "source": [
        "#read in data\n",
        "# df = pd.read_csv(r'C:\\Users\\lwu31\\OneDrive - JNJ\\Documents\\train.csv')\n",
        "df = pd.read_csv('data/nlp-getting-started/train.csv')\n",
        "# sample the data, acts as shuffling the data on row\n",
        "\n",
        "#50/50 split between train and dev\n",
        "# allocate more for traiing if we do it this way, i'll run some\n",
        "# analysis to see if my cluster bootstrap can imrpove the models we run.\n",
        "numtest = int(len(df)/3.5)\n",
        "df_train = df[numtest:].reset_index(drop=True)\n",
        "df_test = df[:int(numtest/2)].reset_index(drop=True)\n",
        "df_dev = df[int(numtest/2):numtest].reset_index(drop=True)\n",
        "\n",
        "train_data, train_label = df_train.text, df_train.target\n",
        "dev_data, dev_label = df_dev.text, df_dev.target\n",
        "test_data, test_label = df_test.text, df_test.target\n",
        "\n",
        "#split into disaster and non disaster data\n",
        "df_neg = df_train.loc[df_train.target == 0]\n",
        "df_pos = df_train.loc[df_train.target == 1]\n",
        "\n",
        "#split into disaster and nondisaster tweets only\n",
        "neg_text = df_neg.text\n",
        "pos_text = df_pos.text\n",
        "\n",
        "print(\"Some data metrics\\n\")\n",
        "print(\"Shape of train data:\", df_train.shape)\n",
        "print(\"\\nMissing data in each column:\\n\" + str(df.isnull().sum()))\n",
        "print(\"\\nNumber of disaster tweets:\\n\"+ str(train_label.value_counts()))"
      ],
      "execution_count": 8,
      "outputs": [
        {
          "output_type": "error",
          "ename": "FileNotFoundError",
          "evalue": "ignored",
          "traceback": [
            "\u001b[0;31m---------------------------------------------------------------------------\u001b[0m",
            "\u001b[0;31mFileNotFoundError\u001b[0m                         Traceback (most recent call last)",
            "\u001b[0;32m<ipython-input-8-0f9b6c95f807>\u001b[0m in \u001b[0;36m<module>\u001b[0;34m()\u001b[0m\n\u001b[1;32m      1\u001b[0m \u001b[0;31m#read in data\u001b[0m\u001b[0;34m\u001b[0m\u001b[0;34m\u001b[0m\u001b[0;34m\u001b[0m\u001b[0m\n\u001b[1;32m      2\u001b[0m \u001b[0;31m# df = pd.read_csv(r'C:\\Users\\lwu31\\OneDrive - JNJ\\Documents\\train.csv')\u001b[0m\u001b[0;34m\u001b[0m\u001b[0;34m\u001b[0m\u001b[0;34m\u001b[0m\u001b[0m\n\u001b[0;32m----> 3\u001b[0;31m \u001b[0mdf\u001b[0m \u001b[0;34m=\u001b[0m \u001b[0mpd\u001b[0m\u001b[0;34m.\u001b[0m\u001b[0mread_csv\u001b[0m\u001b[0;34m(\u001b[0m\u001b[0;34m'data/nlp-getting-started/train.csv'\u001b[0m\u001b[0;34m)\u001b[0m\u001b[0;34m\u001b[0m\u001b[0;34m\u001b[0m\u001b[0m\n\u001b[0m\u001b[1;32m      4\u001b[0m \u001b[0;31m# sample the data, acts as shuffling the data on row\u001b[0m\u001b[0;34m\u001b[0m\u001b[0;34m\u001b[0m\u001b[0;34m\u001b[0m\u001b[0m\n\u001b[1;32m      5\u001b[0m \u001b[0;34m\u001b[0m\u001b[0m\n",
            "\u001b[0;32m/usr/local/lib/python3.7/dist-packages/pandas/io/parsers.py\u001b[0m in \u001b[0;36mread_csv\u001b[0;34m(filepath_or_buffer, sep, delimiter, header, names, index_col, usecols, squeeze, prefix, mangle_dupe_cols, dtype, engine, converters, true_values, false_values, skipinitialspace, skiprows, skipfooter, nrows, na_values, keep_default_na, na_filter, verbose, skip_blank_lines, parse_dates, infer_datetime_format, keep_date_col, date_parser, dayfirst, cache_dates, iterator, chunksize, compression, thousands, decimal, lineterminator, quotechar, quoting, doublequote, escapechar, comment, encoding, dialect, error_bad_lines, warn_bad_lines, delim_whitespace, low_memory, memory_map, float_precision)\u001b[0m\n\u001b[1;32m    686\u001b[0m     )\n\u001b[1;32m    687\u001b[0m \u001b[0;34m\u001b[0m\u001b[0m\n\u001b[0;32m--> 688\u001b[0;31m     \u001b[0;32mreturn\u001b[0m \u001b[0m_read\u001b[0m\u001b[0;34m(\u001b[0m\u001b[0mfilepath_or_buffer\u001b[0m\u001b[0;34m,\u001b[0m \u001b[0mkwds\u001b[0m\u001b[0;34m)\u001b[0m\u001b[0;34m\u001b[0m\u001b[0;34m\u001b[0m\u001b[0m\n\u001b[0m\u001b[1;32m    689\u001b[0m \u001b[0;34m\u001b[0m\u001b[0m\n\u001b[1;32m    690\u001b[0m \u001b[0;34m\u001b[0m\u001b[0m\n",
            "\u001b[0;32m/usr/local/lib/python3.7/dist-packages/pandas/io/parsers.py\u001b[0m in \u001b[0;36m_read\u001b[0;34m(filepath_or_buffer, kwds)\u001b[0m\n\u001b[1;32m    452\u001b[0m \u001b[0;34m\u001b[0m\u001b[0m\n\u001b[1;32m    453\u001b[0m     \u001b[0;31m# Create the parser.\u001b[0m\u001b[0;34m\u001b[0m\u001b[0;34m\u001b[0m\u001b[0;34m\u001b[0m\u001b[0m\n\u001b[0;32m--> 454\u001b[0;31m     \u001b[0mparser\u001b[0m \u001b[0;34m=\u001b[0m \u001b[0mTextFileReader\u001b[0m\u001b[0;34m(\u001b[0m\u001b[0mfp_or_buf\u001b[0m\u001b[0;34m,\u001b[0m \u001b[0;34m**\u001b[0m\u001b[0mkwds\u001b[0m\u001b[0;34m)\u001b[0m\u001b[0;34m\u001b[0m\u001b[0;34m\u001b[0m\u001b[0m\n\u001b[0m\u001b[1;32m    455\u001b[0m \u001b[0;34m\u001b[0m\u001b[0m\n\u001b[1;32m    456\u001b[0m     \u001b[0;32mif\u001b[0m \u001b[0mchunksize\u001b[0m \u001b[0;32mor\u001b[0m \u001b[0miterator\u001b[0m\u001b[0;34m:\u001b[0m\u001b[0;34m\u001b[0m\u001b[0;34m\u001b[0m\u001b[0m\n",
            "\u001b[0;32m/usr/local/lib/python3.7/dist-packages/pandas/io/parsers.py\u001b[0m in \u001b[0;36m__init__\u001b[0;34m(self, f, engine, **kwds)\u001b[0m\n\u001b[1;32m    946\u001b[0m             \u001b[0mself\u001b[0m\u001b[0;34m.\u001b[0m\u001b[0moptions\u001b[0m\u001b[0;34m[\u001b[0m\u001b[0;34m\"has_index_names\"\u001b[0m\u001b[0;34m]\u001b[0m \u001b[0;34m=\u001b[0m \u001b[0mkwds\u001b[0m\u001b[0;34m[\u001b[0m\u001b[0;34m\"has_index_names\"\u001b[0m\u001b[0;34m]\u001b[0m\u001b[0;34m\u001b[0m\u001b[0;34m\u001b[0m\u001b[0m\n\u001b[1;32m    947\u001b[0m \u001b[0;34m\u001b[0m\u001b[0m\n\u001b[0;32m--> 948\u001b[0;31m         \u001b[0mself\u001b[0m\u001b[0;34m.\u001b[0m\u001b[0m_make_engine\u001b[0m\u001b[0;34m(\u001b[0m\u001b[0mself\u001b[0m\u001b[0;34m.\u001b[0m\u001b[0mengine\u001b[0m\u001b[0;34m)\u001b[0m\u001b[0;34m\u001b[0m\u001b[0;34m\u001b[0m\u001b[0m\n\u001b[0m\u001b[1;32m    949\u001b[0m \u001b[0;34m\u001b[0m\u001b[0m\n\u001b[1;32m    950\u001b[0m     \u001b[0;32mdef\u001b[0m \u001b[0mclose\u001b[0m\u001b[0;34m(\u001b[0m\u001b[0mself\u001b[0m\u001b[0;34m)\u001b[0m\u001b[0;34m:\u001b[0m\u001b[0;34m\u001b[0m\u001b[0;34m\u001b[0m\u001b[0m\n",
            "\u001b[0;32m/usr/local/lib/python3.7/dist-packages/pandas/io/parsers.py\u001b[0m in \u001b[0;36m_make_engine\u001b[0;34m(self, engine)\u001b[0m\n\u001b[1;32m   1178\u001b[0m     \u001b[0;32mdef\u001b[0m \u001b[0m_make_engine\u001b[0m\u001b[0;34m(\u001b[0m\u001b[0mself\u001b[0m\u001b[0;34m,\u001b[0m \u001b[0mengine\u001b[0m\u001b[0;34m=\u001b[0m\u001b[0;34m\"c\"\u001b[0m\u001b[0;34m)\u001b[0m\u001b[0;34m:\u001b[0m\u001b[0;34m\u001b[0m\u001b[0;34m\u001b[0m\u001b[0m\n\u001b[1;32m   1179\u001b[0m         \u001b[0;32mif\u001b[0m \u001b[0mengine\u001b[0m \u001b[0;34m==\u001b[0m \u001b[0;34m\"c\"\u001b[0m\u001b[0;34m:\u001b[0m\u001b[0;34m\u001b[0m\u001b[0;34m\u001b[0m\u001b[0m\n\u001b[0;32m-> 1180\u001b[0;31m             \u001b[0mself\u001b[0m\u001b[0;34m.\u001b[0m\u001b[0m_engine\u001b[0m \u001b[0;34m=\u001b[0m \u001b[0mCParserWrapper\u001b[0m\u001b[0;34m(\u001b[0m\u001b[0mself\u001b[0m\u001b[0;34m.\u001b[0m\u001b[0mf\u001b[0m\u001b[0;34m,\u001b[0m \u001b[0;34m**\u001b[0m\u001b[0mself\u001b[0m\u001b[0;34m.\u001b[0m\u001b[0moptions\u001b[0m\u001b[0;34m)\u001b[0m\u001b[0;34m\u001b[0m\u001b[0;34m\u001b[0m\u001b[0m\n\u001b[0m\u001b[1;32m   1181\u001b[0m         \u001b[0;32melse\u001b[0m\u001b[0;34m:\u001b[0m\u001b[0;34m\u001b[0m\u001b[0;34m\u001b[0m\u001b[0m\n\u001b[1;32m   1182\u001b[0m             \u001b[0;32mif\u001b[0m \u001b[0mengine\u001b[0m \u001b[0;34m==\u001b[0m \u001b[0;34m\"python\"\u001b[0m\u001b[0;34m:\u001b[0m\u001b[0;34m\u001b[0m\u001b[0;34m\u001b[0m\u001b[0m\n",
            "\u001b[0;32m/usr/local/lib/python3.7/dist-packages/pandas/io/parsers.py\u001b[0m in \u001b[0;36m__init__\u001b[0;34m(self, src, **kwds)\u001b[0m\n\u001b[1;32m   2008\u001b[0m         \u001b[0mkwds\u001b[0m\u001b[0;34m[\u001b[0m\u001b[0;34m\"usecols\"\u001b[0m\u001b[0;34m]\u001b[0m \u001b[0;34m=\u001b[0m \u001b[0mself\u001b[0m\u001b[0;34m.\u001b[0m\u001b[0musecols\u001b[0m\u001b[0;34m\u001b[0m\u001b[0;34m\u001b[0m\u001b[0m\n\u001b[1;32m   2009\u001b[0m \u001b[0;34m\u001b[0m\u001b[0m\n\u001b[0;32m-> 2010\u001b[0;31m         \u001b[0mself\u001b[0m\u001b[0;34m.\u001b[0m\u001b[0m_reader\u001b[0m \u001b[0;34m=\u001b[0m \u001b[0mparsers\u001b[0m\u001b[0;34m.\u001b[0m\u001b[0mTextReader\u001b[0m\u001b[0;34m(\u001b[0m\u001b[0msrc\u001b[0m\u001b[0;34m,\u001b[0m \u001b[0;34m**\u001b[0m\u001b[0mkwds\u001b[0m\u001b[0;34m)\u001b[0m\u001b[0;34m\u001b[0m\u001b[0;34m\u001b[0m\u001b[0m\n\u001b[0m\u001b[1;32m   2011\u001b[0m         \u001b[0mself\u001b[0m\u001b[0;34m.\u001b[0m\u001b[0munnamed_cols\u001b[0m \u001b[0;34m=\u001b[0m \u001b[0mself\u001b[0m\u001b[0;34m.\u001b[0m\u001b[0m_reader\u001b[0m\u001b[0;34m.\u001b[0m\u001b[0munnamed_cols\u001b[0m\u001b[0;34m\u001b[0m\u001b[0;34m\u001b[0m\u001b[0m\n\u001b[1;32m   2012\u001b[0m \u001b[0;34m\u001b[0m\u001b[0m\n",
            "\u001b[0;32mpandas/_libs/parsers.pyx\u001b[0m in \u001b[0;36mpandas._libs.parsers.TextReader.__cinit__\u001b[0;34m()\u001b[0m\n",
            "\u001b[0;32mpandas/_libs/parsers.pyx\u001b[0m in \u001b[0;36mpandas._libs.parsers.TextReader._setup_parser_source\u001b[0;34m()\u001b[0m\n",
            "\u001b[0;31mFileNotFoundError\u001b[0m: [Errno 2] No such file or directory: 'data/nlp-getting-started/train.csv'"
          ]
        }
      ]
    },
    {
      "cell_type": "code",
      "metadata": {
        "id": "7PJMOgOyRy8m"
      },
      "source": [
        "#read in data \n",
        "train_data =  pd.read_csv('train.csv')"
      ],
      "execution_count": 17,
      "outputs": []
    },
    {
      "cell_type": "code",
      "metadata": {
        "colab": {
          "base_uri": "https://localhost:8080/",
          "height": 295
        },
        "id": "fjc9o_24SN12",
        "outputId": "b7e67597-fc99-4a55-a937-ce3ee7c24eb0"
      },
      "source": [
        "#CREDIT TO SOURCES: \n",
        "#https://stackoverflow.com/questions/28931224/adding-value-labels-on-a-matplotlib-bar-chart \n",
        "\n",
        "#explore distribution of dataset \n",
        "sns.countplot(x = train_data['target'], palette = 'rocket')\n",
        "ax = plt.gca()\n",
        "y_max = train_data['target'].value_counts().max() \n",
        "ax.set_ylim([0, round(y_max)])\n",
        "for p in ax.patches:\n",
        "    ax.text(p.get_x() + p.get_width()/2., 1700, '%d' % int(p.get_height()), \n",
        "            fontsize=12, color='white', ha='center', va= 'bottom')\n",
        "plt.title(\"Observations by Classification Type\")\n",
        "plt.show()"
      ],
      "execution_count": 18,
      "outputs": [
        {
          "output_type": "display_data",
          "data": {
            "image/png": "[encoded data removed]",
            "text/plain": [
              "<Figure size 432x288 with 1 Axes>"
            ]
          },
          "metadata": {
            "needs_background": "light"
          }
        }
      ]
    },
    {
      "cell_type": "markdown",
      "metadata": {
        "id": "UawMeq-mUehG"
      },
      "source": [
        "## Understanding Duplicate Data\n",
        "\n",
        "There are 110 tweets in this dataset. When we explored further, we saw that duplicate tweets were not always classified in the same way. As a result, we decided to drop duplicate tweets from the training set to improve our model accuracy."
      ]
    },
    {
      "cell_type": "code",
      "metadata": {
        "colab": {
          "base_uri": "https://localhost:8080/",
          "height": 255
        },
        "id": "PbuWUL9iTPG6",
        "outputId": "cb8f4160-b727-4994-850f-2e6d02eceed0"
      },
      "source": [
        "duplct_cnt = len(train_data['text'])-len(train_data['text'].drop_duplicates())\n",
        "df['duplicate_tweet'] = np.where(df['text'].duplicated(keep=False), 'yes', 'no')\n",
        "print('The most common duplicate tweets are:')\n",
        "df[df.duplicate_tweet == 'yes'].pivot_table(index='text', values='target', aggfunc='count').sort_values(by='target', ascending=False).head(5)\n"
      ],
      "execution_count": 28,
      "outputs": [
        {
          "output_type": "stream",
          "name": "stdout",
          "text": [
            "The most common duplicate tweets are:\n"
          ]
        },
        {
          "output_type": "execute_result",
          "data": {
            "text/html": [
              "<div>\n",
              "<style scoped>\n",
              "    .dataframe tbody tr th:only-of-type {\n",
              "        vertical-align: middle;\n",
              "    }\n",
              "\n",
              "    .dataframe tbody tr th {\n",
              "        vertical-align: top;\n",
              "    }\n",
              "\n",
              "    .dataframe thead th {\n",
              "        text-align: right;\n",
              "    }\n",
              "</style>\n",
              "<table border=\"1\" class=\"dataframe\">\n",
              "  <thead>\n",
              "    <tr style=\"text-align: right;\">\n",
              "      <th></th>\n",
              "      <th>target</th>\n",
              "    </tr>\n",
              "    <tr>\n",
              "      <th>text</th>\n",
              "      <th></th>\n",
              "    </tr>\n",
              "  </thead>\n",
              "  <tbody>\n",
              "    <tr>\n",
              "      <th>11-Year-Old Boy Charged With Manslaughter of Toddler: Report: An 11-year-old boy has been charged with manslaughter over the fatal sh...</th>\n",
              "      <td>10</td>\n",
              "    </tr>\n",
              "    <tr>\n",
              "      <th>He came to a land which was engulfed in tribal war and turned it into a land of peace i.e. Madinah. #ProphetMuhammad #islam</th>\n",
              "      <td>6</td>\n",
              "    </tr>\n",
              "    <tr>\n",
              "      <th>The Prophet (peace be upon him) said 'Save yourself from Hellfire even if it is by giving half a date in charity.'</th>\n",
              "      <td>6</td>\n",
              "    </tr>\n",
              "    <tr>\n",
              "      <th>#Bestnaijamade: 16yr old PKK suicide bomber who detonated bomb in ... http://t.co/KSAwlYuX02 bestnaijamade bestnaijamade bestnaijamade beÛ_</th>\n",
              "      <td>6</td>\n",
              "    </tr>\n",
              "    <tr>\n",
              "      <th>Madhya Pradesh Train Derailment: Village Youth Saved Many Lives</th>\n",
              "      <td>5</td>\n",
              "    </tr>\n",
              "  </tbody>\n",
              "</table>\n",
              "</div>"
            ],
            "text/plain": [
              "                                                    target\n",
              "text                                                      \n",
              "11-Year-Old Boy Charged With Manslaughter of To...      10\n",
              "He came to a land which was engulfed in tribal ...       6\n",
              "The Prophet (peace be upon him) said 'Save your...       6\n",
              "#Bestnaijamade: 16yr old PKK suicide bomber who...       6\n",
              "Madhya Pradesh Train Derailment: Village Youth ...       5"
            ]
          },
          "metadata": {},
          "execution_count": 28
        }
      ]
    },
    {
      "cell_type": "code",
      "metadata": {
        "colab": {
          "base_uri": "https://localhost:8080/",
          "height": 224
        },
        "id": "0LPbMY_HV0vo",
        "outputId": "a42ab131-6df7-421f-8605-5339ecf41c61"
      },
      "source": [
        "dups = df[df.duplicate_tweet == 'yes']\n",
        "print('Duplicate tweets classification:')\n",
        "dups[['id', 'text', 'target']].sort_values(by='text', ascending=False).head(5)"
      ],
      "execution_count": 29,
      "outputs": [
        {
          "output_type": "stream",
          "name": "stdout",
          "text": [
            "Duplicate tweets classification:\n"
          ]
        },
        {
          "output_type": "execute_result",
          "data": {
            "text/html": [
              "<div>\n",
              "<style scoped>\n",
              "    .dataframe tbody tr th:only-of-type {\n",
              "        vertical-align: middle;\n",
              "    }\n",
              "\n",
              "    .dataframe tbody tr th {\n",
              "        vertical-align: top;\n",
              "    }\n",
              "\n",
              "    .dataframe thead th {\n",
              "        text-align: right;\n",
              "    }\n",
              "</style>\n",
              "<table border=\"1\" class=\"dataframe\">\n",
              "  <thead>\n",
              "    <tr style=\"text-align: right;\">\n",
              "      <th></th>\n",
              "      <th>id</th>\n",
              "      <th>text</th>\n",
              "      <th>target</th>\n",
              "    </tr>\n",
              "  </thead>\n",
              "  <tbody>\n",
              "    <tr>\n",
              "      <th>5620</th>\n",
              "      <td>8018</td>\n",
              "      <td>wowo--=== 12000 Nigerian refugees repatriated ...</td>\n",
              "      <td>1</td>\n",
              "    </tr>\n",
              "    <tr>\n",
              "      <th>5641</th>\n",
              "      <td>8044</td>\n",
              "      <td>wowo--=== 12000 Nigerian refugees repatriated ...</td>\n",
              "      <td>0</td>\n",
              "    </tr>\n",
              "    <tr>\n",
              "      <th>6091</th>\n",
              "      <td>8698</td>\n",
              "      <td>that horrible sinking feeling when youÛªve be...</td>\n",
              "      <td>1</td>\n",
              "    </tr>\n",
              "    <tr>\n",
              "      <th>6123</th>\n",
              "      <td>8739</td>\n",
              "      <td>that horrible sinking feeling when youÛªve be...</td>\n",
              "      <td>1</td>\n",
              "    </tr>\n",
              "    <tr>\n",
              "      <th>6103</th>\n",
              "      <td>8714</td>\n",
              "      <td>that horrible sinking feeling when youÛªve be...</td>\n",
              "      <td>0</td>\n",
              "    </tr>\n",
              "  </tbody>\n",
              "</table>\n",
              "</div>"
            ],
            "text/plain": [
              "        id                                               text  target\n",
              "5620  8018  wowo--=== 12000 Nigerian refugees repatriated ...       1\n",
              "5641  8044  wowo--=== 12000 Nigerian refugees repatriated ...       0\n",
              "6091  8698  that horrible sinking feeling when youÛªve be...       1\n",
              "6123  8739  that horrible sinking feeling when youÛªve be...       1\n",
              "6103  8714  that horrible sinking feeling when youÛªve be...       0"
            ]
          },
          "metadata": {},
          "execution_count": 29
        }
      ]
    },
    {
      "cell_type": "markdown",
      "metadata": {
        "id": "tSVvZ6iSXyYV"
      },
      "source": [
        "## Location Data Considerations:\n",
        "\n",
        "Much of the location data is not classified consistently--that is, it contains: \n",
        "*   different levels of granularity (countries, states, cities)\n",
        "*   different versions of the same entity (e.g. United States, USA) \n",
        "*   unidentifiable location (e.g. ) \n",
        "\n",
        "After attempting to clean the data, we were able to categorize a significant amount of tweets by country, but the vast majority of tweets were unable to be classified correctly. As a result, we determined that it would be best not to include location data in our models."
      ]
    },
    {
      "cell_type": "code",
      "metadata": {
        "colab": {
          "base_uri": "https://localhost:8080/",
          "height": 394
        },
        "id": "2m7SSrxqVFXg",
        "outputId": "e4899c93-2b0f-4b3d-b729-196ab9265a29"
      },
      "source": [
        "df[['location', 'target']].dropna(subset=['location']).groupby('location').count().sort_values(by='target', ascending=False).head(10)"
      ],
      "execution_count": 33,
      "outputs": [
        {
          "output_type": "execute_result",
          "data": {
            "text/html": [
              "<div>\n",
              "<style scoped>\n",
              "    .dataframe tbody tr th:only-of-type {\n",
              "        vertical-align: middle;\n",
              "    }\n",
              "\n",
              "    .dataframe tbody tr th {\n",
              "        vertical-align: top;\n",
              "    }\n",
              "\n",
              "    .dataframe thead th {\n",
              "        text-align: right;\n",
              "    }\n",
              "</style>\n",
              "<table border=\"1\" class=\"dataframe\">\n",
              "  <thead>\n",
              "    <tr style=\"text-align: right;\">\n",
              "      <th></th>\n",
              "      <th>target</th>\n",
              "    </tr>\n",
              "    <tr>\n",
              "      <th>location</th>\n",
              "      <th></th>\n",
              "    </tr>\n",
              "  </thead>\n",
              "  <tbody>\n",
              "    <tr>\n",
              "      <th>USA</th>\n",
              "      <td>104</td>\n",
              "    </tr>\n",
              "    <tr>\n",
              "      <th>New York</th>\n",
              "      <td>71</td>\n",
              "    </tr>\n",
              "    <tr>\n",
              "      <th>United States</th>\n",
              "      <td>50</td>\n",
              "    </tr>\n",
              "    <tr>\n",
              "      <th>London</th>\n",
              "      <td>45</td>\n",
              "    </tr>\n",
              "    <tr>\n",
              "      <th>Canada</th>\n",
              "      <td>29</td>\n",
              "    </tr>\n",
              "    <tr>\n",
              "      <th>Nigeria</th>\n",
              "      <td>28</td>\n",
              "    </tr>\n",
              "    <tr>\n",
              "      <th>UK</th>\n",
              "      <td>27</td>\n",
              "    </tr>\n",
              "    <tr>\n",
              "      <th>Los Angeles, CA</th>\n",
              "      <td>26</td>\n",
              "    </tr>\n",
              "    <tr>\n",
              "      <th>India</th>\n",
              "      <td>24</td>\n",
              "    </tr>\n",
              "    <tr>\n",
              "      <th>Mumbai</th>\n",
              "      <td>22</td>\n",
              "    </tr>\n",
              "  </tbody>\n",
              "</table>\n",
              "</div>"
            ],
            "text/plain": [
              "                 target\n",
              "location               \n",
              "USA                 104\n",
              "New York             71\n",
              "United States        50\n",
              "London               45\n",
              "Canada               29\n",
              "Nigeria              28\n",
              "UK                   27\n",
              "Los Angeles, CA      26\n",
              "India                24\n",
              "Mumbai               22"
            ]
          },
          "metadata": {},
          "execution_count": 33
        }
      ]
    },
    {
      "cell_type": "code",
      "metadata": {
        "id": "zi3gezXbZjKd"
      },
      "source": [
        "#CREDIT TO SOURCES\n",
        "#https://medium.com/swlh/extracting-location-data-from-twitter-54c837144038\n",
        "#https://colab.research.google.com/notebooks/snippets/importing_libraries.ipynb\n",
        "#https://stackoverflow.com/questions/33098040/how-to-use-word-tokenize-in-data-frame\n",
        "#https://stackoverflow.com/questions/34962104/how-can-i-use-the-apply-function-for-a-single-column\n",
        "\n",
        "#import libraries \n",
        "import geonamescache\n",
        "from geonamescache.mappers import country\n",
        "\n",
        "#discuss text_clean function with team -- need it for location EDA \n",
        "def text_clean(text):\n",
        "  #remove line breaks\n",
        "  text = re.sub(r\"\\n\",\"\",text)\n",
        "\n",
        "  #convert to lowercase \n",
        "  text = text.lower()\n",
        "\n",
        "  #remove digits and currencies \n",
        "  text = re.sub(r\"\\d+\",\"\",text) \n",
        "  text = re.sub(r'[\\$\\d+\\d+\\$]', \"\", text)      \n",
        "\n",
        "  #remove dates \n",
        "  text = re.sub(r'\\d+[\\.\\/-]\\d+[\\.\\/-]\\d+', '', text)\n",
        "  text = re.sub(r'\\d+[\\.\\/-]\\d+[\\.\\/-]\\d+', '', text)\n",
        "  text = re.sub(r'\\d+[\\.\\/-]\\d+[\\.\\/-]\\d+', '', text)\n",
        "\n",
        "  #remove non-ascii\n",
        "  text = re.sub(r'[^\\x00-\\x7f]',r' ',text) \n",
        "\n",
        "  #remove punctuation\n",
        "  text = re.sub(r'[^\\w\\s]','',text) \n",
        "\n",
        "  #remove hyperlinks\n",
        "  text = re.sub(r'https?:\\/\\/.*[\\r\\n]*', '', text)\n",
        "\n",
        "  #replace extra whitespaces with a single one \n",
        "  #text = re.sub(re.sub(' +', ' ', text)\n",
        "  return text\n",
        "\n",
        "#break out location identifiers into separate lists\n",
        "#US-specific identifiers\n",
        "city_state_mapping =  pd.read_csv('city_to_state.csv')\n",
        "US_map = dict(zip(city_state_mapping.city, city_state_mapping.state))\n",
        "US_cities = set(city_state_mapping.city)\n",
        "US_states = set(city_state_mapping.state)\n",
        "\n",
        "#import mapping function\n",
        "mapper = country(from_key='iso3', to_key='name')\n",
        "mapper2 = country(from_key='iso', to_key='name')\n",
        "\n",
        "#country-specific identifiers \n",
        "gc = geonamescache.GeonamesCache()  \n",
        "country_names = gc.get_countries_by_names()\n",
        "countries = list(country_names.keys())\n",
        "countries = [c.lower() for c in countries]\n",
        "iso3 = [val[\"iso3\"].lower() for key, val in country_names.items() if \"iso3\" in val]\n",
        "#iso = [val[\"iso\"].lower() for key, val in country_names.items() if \"iso\" in val] risks too many incorrect categorizations\n",
        "\n",
        "#define dataframe; drop null values \n",
        "loc_list = df[['location', 'target']].dropna(subset=['location'])\n",
        "loc_list['location'] = loc_list['location'].apply(lambda x: text_clean(x))\n",
        "\n",
        "#tokenize the location from each user-generated geo-location (word_tokenize) \n",
        "loc_list = loc_list.location.apply(nltk.word_tokenize)\n",
        "\n",
        "#initialize empty list \n",
        "country = []\n",
        "\n",
        "#categorize by country based on list matches\n",
        "for location in loc_list:\n",
        "  l = set(location)\n",
        "\n",
        "  if l.intersection(countries):\n",
        "    ctry = list(l.intersection(countries))\n",
        "    country.append(ctry[0])\n",
        "    continue\n",
        "\n",
        "  if l.intersection(US_states):\n",
        "    country.append('united states')\n",
        "    continue\n",
        "\n",
        "  if l.intersection(US_cities):\n",
        "    country.append('united states')\n",
        "    continue\n",
        "\n",
        "  if l.intersection(iso3):\n",
        "    ctry = list(l.intersection(iso3))\n",
        "    val = mapper(ctry[0].upper())\n",
        "    country.append(val.lower())\n",
        "    continue\n",
        "\n",
        "  # if l.intersection(iso):\n",
        "  #   ctry = list(l.intersection(iso))\n",
        "  #   val = mapper2(ctry[0].upper())\n",
        "  #   country.append(val.lower())\n",
        "  #   continue\n",
        "\n",
        "  else:\n",
        "    country.append('unknown')\n",
        "\n",
        "ldf = loc_list.to_frame()\n",
        "ldf['country'] = country\n",
        "ldf['target'] = df['target']"
      ],
      "execution_count": 41,
      "outputs": []
    },
    {
      "cell_type": "code",
      "metadata": {
        "colab": {
          "base_uri": "https://localhost:8080/",
          "height": 295
        },
        "id": "NMiP6Dq7Zz9m",
        "outputId": "85def71a-de12-4b17-bce8-6d38f3b0bf3d"
      },
      "source": [
        "#segment and plot by tweet type\n",
        "\n",
        "disaster_tweets = ldf.loc[df['target'] == 1]\n",
        "dt = disaster_tweets[['country', 'location']].groupby('country').count().sort_values(by='location', ascending=False).head(10)\n",
        "\n",
        "non_disaster_tweets = ldf.loc[df['target'] == 0]\n",
        "ndt = non_disaster_tweets[['country', 'location']].groupby('country').count().sort_values(by='location', ascending=False).head(10)\n",
        "\n",
        "fig, (ax1, ax2) = plt.subplots(1, 2, figsize=(12,4))\n",
        "fig.subplots_adjust(wspace=.5)\n",
        "#fig.suptitle('Tweets by Country')\n",
        "dt.plot.barh(ax=ax1, color='c', legend=None)\n",
        "ndt.plot.barh(ax=ax2, color='c', legend=None)\n",
        "\n",
        "ax1.set_title('Top 10 Countries (Disaster Tweets Only)')\n",
        "ax2.set_title('Top 10 Countries (Non-disaster Tweets Only)')\n",
        "ax1.xaxis.set_label_text('Count of Tweets')\n",
        "ax2.xaxis.set_label_text('Count of Tweets')\n",
        "plt.show()"
      ],
      "execution_count": 42,
      "outputs": [
        {
          "output_type": "display_data",
          "data": {
            "image/png": "[encoded data removed]",
            "text/plain": [
              "<Figure size 864x288 with 2 Axes>"
            ]
          },
          "metadata": {
            "needs_background": "light"
          }
        }
      ]
    },
    {
      "cell_type": "markdown",
      "metadata": {
        "id": "-rJ7zxjibVQf"
      },
      "source": [
        "## Most Popular Bigrams\n",
        "\n"
      ]
    },
    {
      "cell_type": "code",
      "metadata": {
        "id": "5Biqv0SVbUjg"
      },
      "source": [
        "#CREDIT TO SOURCES: \n",
        "#https://stackoverflow.com/questions/21844546/forming-bigrams-of-words-in-list-of-sentences-with-python\n",
        "#https://stackoverflow.com/questions/43473736/most-common-2-grams-using-python\n",
        "\n",
        "from collections import Counter\n",
        "from nltk.util import ngrams\n",
        "from nltk import word_tokenize\n",
        "# nltk.download('stopwords')\n",
        "\n",
        "#create dataframe\n",
        "tweets = df[['text', 'target']]\n",
        "\n",
        "#segment disaster tweets\n",
        "dt = tweets.loc[df['target'] == 1]\n",
        "dt.columns = ['text', 'target']\n",
        "dt = dt['text']\n",
        "\n",
        "#segment non-disaster tweets\n",
        "ndt = tweets.loc[df['target'] == 0]\n",
        "ndt.columns = ['text', 'target']\n",
        "ndt = ndt['text']\n",
        "\n",
        "def count_top_bigrams(tweets):\n",
        "  #import stop words\n",
        "  stop_words = set(stopwords.words('english'))\n",
        "\n",
        "  #clean tweets\n",
        "  clean_tweets = [word_tokenize(text_clean(tweet)) for tweet in tweets]\n",
        "\n",
        "  #tokenize tweets and exclude stop words\n",
        "  token_list = []\n",
        "\n",
        "  for tweet in clean_tweets:\n",
        "    tokens = []\n",
        "    for token in tweet:\n",
        "      if token not in stop_words:\n",
        "        tokens.append(token)\n",
        "    token_list.append(tokens)\n",
        "\n",
        "  #group tokens as bigrams\n",
        "  bigram_list = []\n",
        "\n",
        "  for token in token_list: \n",
        "    bigram = list(ngrams(token, 2))\n",
        "    bigram_list.append(bigram)\n",
        "\n",
        "  #count bigrams\n",
        "  cnt = Counter()\n",
        "\n",
        "  for tweet in bigram_list:\n",
        "    for bigram in tweet:\n",
        "      cnt.update(nltk.bigrams(bigram))\n",
        "\n",
        "  top20 = cnt.most_common(20)\n",
        "  return top20\n",
        "\n",
        "#store output as dataframes\n",
        "db = count_top_bigrams(dt)\n",
        "disaster_bigrams = pd.DataFrame(db, columns=['bigram', 'count'])\n",
        "\n",
        "ndb = count_top_bigrams(ndt)\n",
        "non_disaster_bigrams = pd.DataFrame(ndb, columns=['bigram', 'count'])"
      ],
      "execution_count": 49,
      "outputs": []
    },
    {
      "cell_type": "code",
      "metadata": {
        "colab": {
          "base_uri": "https://localhost:8080/",
          "height": 308
        },
        "id": "OYK_YBAPcafG",
        "outputId": "f70459cc-c279-4a71-a4d2-7881fe153846"
      },
      "source": [
        "#segment and plot by tweet type\n",
        "# print(disaster_bigrams)\n",
        "\n",
        "fig, axes = plt.subplots(1, 2, figsize=(12,4))\n",
        "fig.subplots_adjust(wspace=1)\n",
        "fig.suptitle('Top Bigrams by Tweet Type')\n",
        "sns.barplot(x = disaster_bigrams['count'], y = disaster_bigrams['bigram'], color='c', ax = axes[0])\n",
        "sns.barplot(x = non_disaster_bigrams['count'], y = non_disaster_bigrams['bigram'], color='c', ax=axes[1])\n",
        "\n",
        "axes[0].set_title('Top 20 Bigrams (Disaster Tweets Only)')\n",
        "axes[1].set_title('Top 20 Bigrams (Non-disaster Tweets Only)')\n",
        "axes[0].xaxis.set_label_text('Count of Tweets')\n",
        "axes[1].xaxis.set_label_text('Count of Tweets')\n",
        "plt.show()"
      ],
      "execution_count": 50,
      "outputs": [
        {
          "output_type": "display_data",
          "data": {
            "image/png": "[encoded data removed]",
            "text/plain": [
              "<Figure size 864x288 with 2 Axes>"
            ]
          },
          "metadata": {
            "needs_background": "light"
          }
        }
      ]
    },
    {
      "cell_type": "markdown",
      "metadata": {
        "id": "_e9r6JIfKMH5"
      },
      "source": [
        "### Because the available tags, keyword and location, are sparse and method of construction are unclear to us, we wanted to create new tags for the text that we may be able to train later on. "
      ]
    },
    {
      "cell_type": "code",
      "metadata": {
        "scrolled": true,
        "id": "WSqLAiyFKMH5",
        "outputId": "a664daa1-6821-4581-ec21-8edc15f992ce"
      },
      "source": [
        "df_train['hashtag'] = df_train['text'].apply(lambda s: re.findall(r'#(\\w+)', s))\n",
        "df_train['mentions'] = df_train['text'].apply(lambda x: re.findall(r\"@(\\w+)\", x))\n",
        "df_train['links'] = df_train['text'].apply(lambda x: re.findall(r\"http:\\/\\/(\\w+)\", x))\n",
        "df_train['retweet'] = df_train['text'].apply(lambda x: \"rt\" in x.lower().split())\n",
        "\n",
        "df_train['mentions_ind'] = df_train.mentions.apply(lambda y: 0 if len(y)==0 else 1)\n",
        "df_train['hashtag_ind'] = df_train.hashtag.apply(lambda y: 0 if len(y)==0 else 1)\n",
        "df_train['links_ind'] = df_train.links.apply(lambda y: 0 if len(y)==0 else 1)\n",
        "df_train['retweet_ind'] = df_train.retweet.apply(lambda y: 0 if y == False else 1)\n",
        "\n",
        "print(df_train.head(10))"
      ],
      "execution_count": null,
      "outputs": [
        {
          "name": "stdout",
          "output_type": "stream",
          "text": [
            "     id             keyword        location  \\\n",
            "0  8367                ruin         Belfast   \n",
            "1  4164               drown             NaN   \n",
            "2  9232   suicide%20bombing             NaN   \n",
            "3  7587            outbreak  Fukuoka, Japan   \n",
            "4  8816              sirens       Hollywood   \n",
            "5  9673             tornado         Midwest   \n",
            "6  2538           collision             NaN   \n",
            "7   798              battle             NaN   \n",
            "8  7108            military          Alaska   \n",
            "9  7228  natural%20disaster             NaN   \n",
            "\n",
            "                                                text  target  \\\n",
            "0  And then I go a ruin it all with something awf...       0   \n",
            "1        @GraysonDolan only if u let me drown you ??       0   \n",
            "2  meek mill should join isis since he loves suic...       0   \n",
            "3  Families to sue over Legionnaires: More than 4...       1   \n",
            "4  @TravelElixir Any idea what's going on? I hear...       1   \n",
            "5  (OK)  Severe Thunderstorm Warning issued Augus...       1   \n",
            "6  my favorite lady came to our volunteer meeting...       1   \n",
            "7  Dragon Ball Z: Battle Of Gods (2014) - Rotten ...       0   \n",
            "8  Mike Magner Discusses A Trust Betrayed: http:/...       0   \n",
            "9  @ConnorFranta #AskConnor if you were a natural...       0   \n",
            "\n",
            "                             hashtag          mentions links  retweet  \\\n",
            "0                          [minions]                []   [t]    False   \n",
            "1                                 []    [GraysonDolan]    []    False   \n",
            "2                                 []                []    []    False   \n",
            "3              [News, check, follow]                []   [t]    False   \n",
            "4                                 []    [TravelElixir]    []    False   \n",
            "5                             [okwx]                []   [t]    False   \n",
            "6                                 []                []   [t]    False   \n",
            "7                                 []  [RottenTomatoes]   [t]    False   \n",
            "8  [military, veterans, environment]         [YouTube]   [t]    False   \n",
            "9                        [AskConnor]    [ConnorFranta]    []    False   \n",
            "\n",
            "   mentions_ind  hashtag_ind  links_ind  retweet_ind  \n",
            "0             0            1          1            0  \n",
            "1             1            0          0            0  \n",
            "2             0            0          0            0  \n",
            "3             0            1          1            0  \n",
            "4             1            0          0            0  \n",
            "5             0            1          1            0  \n",
            "6             0            0          1            0  \n",
            "7             1            0          1            0  \n",
            "8             1            1          1            0  \n",
            "9             1            1          0            0  \n"
          ]
        }
      ]
    },
    {
      "cell_type": "markdown",
      "metadata": {
        "id": "e4Md3sfBKMH6"
      },
      "source": [
        "In text classification problems, text pre-processing is a crucial part to prepping our data for analysis. This can be found in our text_clean function. Some pre-processing considerations we have made include:\n",
        "* removing numbers, symbols, and punctuation\n",
        "* standardizing to lowercase text\n",
        "* remove stop words\n",
        "* word stemming\n",
        "* trailing spaces"
      ]
    },
    {
      "cell_type": "markdown",
      "metadata": {
        "id": "k7aljnftKMH7"
      },
      "source": [
        "# Preprocess\n",
        "* Lemmatize: (study -> study, studies -> study)\n",
        "* Stemmatize: (study -> study, studies -> studi)"
      ]
    },
    {
      "cell_type": "code",
      "metadata": {
        "id": "TtRoVMVNKMH8"
      },
      "source": [
        "# Preprocess the data prior to running the model using this function\n",
        "# TODO: Here I've commented out the punctuation regex section\n",
        "# Feel free to uncomment that part BUT I think we should leave it out\n",
        "# altogether. See below for usage.\n",
        "\n",
        "#Ben - can you include the dropping of duplicates in the preprocessing function?\n",
        "def drop_dup(df): \n",
        "    #remove duplicates \n",
        "    df.drop_duplicates(subset=['text'], keep='first')\n",
        "    return df\n",
        "\n",
        "def preprocess(text, method=None, tokenizer=sent_tokenize, rm_stop=False): \n",
        "    \"\"\"Returns a text processed string.\n",
        "\n",
        "    Arguments:\n",
        "    text      -- String, func is designed for loops\n",
        "    \n",
        "    method    -- ('s','l') Specify from s - stemmatize, l - lemmatize.\n",
        "                 None will mean you do not want to remove suffix.\n",
        "                 \n",
        "    tokenizer -- Any tokenizer function, from word to sentence to tweet.\n",
        "                 Tokenizer must not be an object.method unless you\n",
        "                 specifiy it to be like TweetTokenizer.tokenize.\n",
        "                 Sentence tokenizer is initialized here.\n",
        "                 \n",
        "    rm_stop   -- Bool. Remove stop words or not.\n",
        "    \"\"\"\n",
        "\n",
        "    #remove line breaks\n",
        "    text = re.sub(r\"\\n\",\"\",text)\n",
        "    # remove trailing spaces\n",
        "    text = re.sub(r'[ \\t]+$','', text)\n",
        "    #convert to lowercase \n",
        "    text = text.lower()\n",
        "    #remove digits and currencies \n",
        "    text = re.sub(r\"\\d+\",\"\",text) \n",
        "    text = re.sub(r'[\\$\\d+\\d+\\$]', \"\", text)\n",
        "    #remove dates \n",
        "    text = re.sub(r'\\d+[\\.\\/-]\\d+[\\.\\/-]\\d+', '', text)\n",
        "    text = re.sub(r'\\d+[\\.\\/-]\\d+[\\.\\/-]\\d+', '', text)\n",
        "    text = re.sub(r'\\d+[\\.\\/-]\\d+[\\.\\/-]\\d+', '', text)\n",
        "    #remove non-ascii\n",
        "    text = re.sub(r'[^\\x00-\\x7f]',r' ',text) \n",
        "    #remove hyperlinks\n",
        "    #text = re.sub(r'https?:\\/\\/.*[\\r\\n]*', '', text)\n",
        "    text = re.sub(r'http\\S+', '', text, flags=re.MULTILINE)\n",
        "\n",
        "    #remove punctuation\n",
        "    # Leave it? or talking point?!\n",
        "    #text = re.sub(r'[^\\w\\s]','',text)\n",
        "    \n",
        "    if rm_stop:\n",
        "        filtered_tokens = [word for word in tokenizer(text) \n",
        "                           if not word in set(stopwords.words('english'))]\n",
        "        text = \" \".join(filtered_tokens)\n",
        "        \n",
        "    if method == 'l':\n",
        "        lemmer = WordNetLemmatizer()\n",
        "        lemm_tokens = [lemmer.lemmatize(word) \n",
        "                       for word in tokenizer(text)]\n",
        "        return \" \".join(lemm_tokens)\n",
        "    \n",
        "    elif method == 's':\n",
        "        porter = PorterStemmer()\n",
        "        stem_tokens = [porter.stem(word) \n",
        "                       for word in tokenizer(text)]\n",
        "        return \" \".join(stem_tokens)\n",
        "    return text"
      ],
      "execution_count": null,
      "outputs": []
    },
    {
      "cell_type": "markdown",
      "metadata": {
        "id": "2LfGjcDpKMH9"
      },
      "source": [
        "# Usage\n",
        "### If someone wants to write a function that spits out all the possible model methods please do. This is to keep in mind that we are using K-folds CV to bag-> bootstrap our data."
      ]
    },
    {
      "cell_type": "code",
      "metadata": {
        "id": "yEVc_jU0KMH9",
        "outputId": "775cd8e9-7626-4233-9a52-3c48691056b2"
      },
      "source": [
        "np.random.seed(0)\n",
        "#df_ = df.sample(frac=1).reset_index()\n",
        "\n",
        "# No stop word removal and no suffix cleaning. Naive Bayes example run\n",
        "# I'll use CountVectorize in this to vectorize data.\n",
        "\n",
        "df_ = df\n",
        "\n",
        "# Process data in loop\n",
        "processed_full = []\n",
        "for i in df_.text:\n",
        "    processed_full.append(preprocess(i))\n",
        "df_.text = processed_full\n",
        "\n",
        "# numtest = int(len(df_)/3.5)\n",
        "# df_test = df_[:int(numtest/2)].reset_index(drop=True)\n",
        "# df_dev = df_[int(numtest/2):numtest].reset_index(drop=True)\n",
        "numtest = int(len(df_)/5)\n",
        "df_train = df_[numtest:].reset_index(drop=True)\n",
        "df_test = df_[:numtest].reset_index(drop=True) \n",
        "\n",
        "train_data, train_label = np.array(df_train.text), np.array(df_train.target)\n",
        "dev_data, dev_label = np.array(df_dev.text), np.array(df_dev.target)\n",
        "test_data, test_label = np.array(df_test.text), np.array(df_test.target)\n",
        "# Naive Bayes example run\n",
        "# I'll use TF-IDF in this to vectorize data.\n",
        "\n",
        "tfidf = TfidfVectorizer()\n",
        "t_data = tfidf.fit_transform(train_data)\n",
        "dt_data = tfidf.transform(dev_data)\n",
        "tt_data = tfidf.transform(test_data)\n",
        "m_nb = MultinomialNB(alpha=0.9).fit(t_data, train_label)\n",
        "pred = m_nb.predict(dt_data)\n",
        "pred_test = m_nb.predict(tt_data)\n",
        "print('Score on no SW removal, no suffix striping and TFIDF:')\n",
        "print('F1 Score: {:.4f}'.format(metrics.f1_score(test_label, pred_test, average='weighted')))\n",
        "print('Accuracy: {:.4f}'.format(metrics.accuracy_score(test_label, pred_test)))\n",
        "print()\n",
        "\n",
        "\n",
        "# Lemmatization, no stop words removal, Naive Bayes example run\n",
        "# I'll use CountVectorize in this to vectorize data.\n",
        "\n",
        "tokenizer = word_tokenize\n",
        "df_ = df\n",
        "\n",
        "processed_full = []\n",
        "for i in df_.text:\n",
        "    processed_full.append(preprocess(i,method='l',tokenizer=tokenizer,rm_stop=True))\n",
        "df_.text = processed_full\n",
        "\n",
        "numtest = int(len(df_)/5)\n",
        "df_train = df_[numtest:].reset_index(drop=True)\n",
        "df_test = df_[:numtest].reset_index(drop=True)\n",
        "\n",
        "train_data, train_label = np.array(df_train.text), np.array(df_train.target)\n",
        "dev_data, dev_label = np.array(df_dev.text), np.array(df_dev.target)\n",
        "test_data, test_label = np.array(df_test.text), np.array(df_test.target)\n",
        "\n",
        "tfidf = CountVectorizer(ngram_range=(1,1))\n",
        "t_data = tfidf.fit_transform(train_data)\n",
        "dt_data = tfidf.transform(dev_data)\n",
        "tt_data = tfidf.transform(test_data)\n",
        "m_nb = MultinomialNB(alpha=0.9).fit(t_data, train_label) # best alpha from project 3\n",
        "pred = m_nb.predict(dt_data)\n",
        "pred_test = m_nb.predict(tt_data)\n",
        "print()\n",
        "print('Test on Lemmatize, remove stop and CountVectorize:')\n",
        "print('F1 Score: {:.4f}'.format(metrics.f1_score(test_label, pred_test, average='weighted')))\n",
        "print('Accuracy: {:.4f}'.format(metrics.accuracy_score(test_label, pred_test)))"
      ],
      "execution_count": null,
      "outputs": [
        {
          "name": "stdout",
          "output_type": "stream",
          "text": [
            "Score on no SW removal, no suffix striping and TFIDF:\n",
            "F1 Score: 0.7702\n",
            "Accuracy: 0.7720\n",
            "\n",
            "\n",
            "Test on Lemmatize, remove stop and CountVectorize:\n",
            "F1 Score: 0.7676\n",
            "Accuracy: 0.7661\n"
          ]
        }
      ]
    },
    {
      "cell_type": "markdown",
      "metadata": {
        "id": "PWjsfNB6KMH-"
      },
      "source": [
        "#### Clean the data and strip"
      ]
    },
    {
      "cell_type": "markdown",
      "metadata": {
        "id": "jiGAzXgYKMH-"
      },
      "source": [
        "### After the data has been cleaned and text pre-processed, we can begin exploring different algorithms. The three machine learning algorithms we will focus on are:\n",
        "* Naive Bayes\n",
        "* Logistic Regression\n",
        "* SVM\n",
        "* KMeans clustering"
      ]
    },
    {
      "cell_type": "code",
      "metadata": {
        "id": "xCjrqa-cKMH_"
      },
      "source": [
        ""
      ],
      "execution_count": null,
      "outputs": []
    }
  ]
}