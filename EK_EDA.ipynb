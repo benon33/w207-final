{
  "nbformat": 4,
  "nbformat_minor": 0,
  "metadata": {
    "colab": {
      "name": "Untitled1.ipynb",
      "provenance": [],
      "authorship_tag": "ABX9TyN2ziXsLdY52QUIPXPwyFEc",
      "include_colab_link": true
    },
    "kernelspec": {
      "name": "python3",
      "display_name": "Python 3"
    },
    "language_info": {
      "name": "python"
    }
  },
  "cells": [
    {
      "cell_type": "markdown",
      "metadata": {
        "id": "view-in-github",
        "colab_type": "text"
      },
      "source": [
        "<a href=\"https://colab.research.google.com/github/benon33/w207-final/blob/main/EK_EDA.ipynb\" target=\"_parent\"><img src=\"https://colab.research.google.com/assets/colab-badge.svg\" alt=\"Open In Colab\"/></a>"
      ]
    },
    {
      "cell_type": "code",
      "metadata": {
        "id": "T59nxbzQhDIZ"
      },
      "source": [
        "#import libraries\n",
        "\n",
        "%matplotlib inline\n",
        "\n",
        "import urllib.request as urllib2 # For python3\n",
        "import numpy as np\n",
        "import pandas as pd\n",
        "import matplotlib.pyplot as plt\n",
        "import seaborn as sns"
      ],
      "execution_count": 23,
      "outputs": []
    },
    {
      "cell_type": "code",
      "metadata": {
        "id": "AAOgUjp-XZyf"
      },
      "source": [
        "train_data =  pd.read_csv('https://raw.githubusercontent.com/benon33/w207-final/main/data/nlp-getting-started/train.csv?token=ACGLQPKGSLC7HH2LDDJFEGTBPWJYI')\n",
        "test_data =  pd.read_csv('https://raw.githubusercontent.com/benon33/w207-final/main/data/nlp-getting-started/test.csv?token=ACGLQPPNXLN7M46TWB3NQQDBPWJ5E')"
      ],
      "execution_count": 7,
      "outputs": []
    },
    {
      "cell_type": "code",
      "metadata": {
        "id": "RlN6eNt1n6Ha",
        "outputId": "5e24c014-d6e4-4606-b35c-e10d3d98db82",
        "colab": {
          "base_uri": "https://localhost:8080/"
        }
      },
      "source": [
        "#determine the shape of the dataset \n",
        "train_data.shape[0], train_data.shape[1]"
      ],
      "execution_count": 22,
      "outputs": [
        {
          "output_type": "execute_result",
          "data": {
            "text/plain": [
              "(7613, 5)"
            ]
          },
          "metadata": {},
          "execution_count": 22
        }
      ]
    },
    {
      "cell_type": "code",
      "metadata": {
        "id": "dL4BLSm0j7eu",
        "outputId": "f0ff5d41-c546-4b25-a7cc-f7f7d4f7e127",
        "colab": {
          "base_uri": "https://localhost:8080/",
          "height": 204
        }
      },
      "source": [
        "#plot first 5 rows in dataset\n",
        "train_data.head(5)"
      ],
      "execution_count": 14,
      "outputs": [
        {
          "output_type": "execute_result",
          "data": {
            "text/html": [
              "<div>\n",
              "<style scoped>\n",
              "    .dataframe tbody tr th:only-of-type {\n",
              "        vertical-align: middle;\n",
              "    }\n",
              "\n",
              "    .dataframe tbody tr th {\n",
              "        vertical-align: top;\n",
              "    }\n",
              "\n",
              "    .dataframe thead th {\n",
              "        text-align: right;\n",
              "    }\n",
              "</style>\n",
              "<table border=\"1\" class=\"dataframe\">\n",
              "  <thead>\n",
              "    <tr style=\"text-align: right;\">\n",
              "      <th></th>\n",
              "      <th>id</th>\n",
              "      <th>keyword</th>\n",
              "      <th>location</th>\n",
              "      <th>text</th>\n",
              "      <th>target</th>\n",
              "    </tr>\n",
              "  </thead>\n",
              "  <tbody>\n",
              "    <tr>\n",
              "      <th>0</th>\n",
              "      <td>1</td>\n",
              "      <td>NaN</td>\n",
              "      <td>NaN</td>\n",
              "      <td>Our Deeds are the Reason of this #earthquake M...</td>\n",
              "      <td>1</td>\n",
              "    </tr>\n",
              "    <tr>\n",
              "      <th>1</th>\n",
              "      <td>4</td>\n",
              "      <td>NaN</td>\n",
              "      <td>NaN</td>\n",
              "      <td>Forest fire near La Ronge Sask. Canada</td>\n",
              "      <td>1</td>\n",
              "    </tr>\n",
              "    <tr>\n",
              "      <th>2</th>\n",
              "      <td>5</td>\n",
              "      <td>NaN</td>\n",
              "      <td>NaN</td>\n",
              "      <td>All residents asked to 'shelter in place' are ...</td>\n",
              "      <td>1</td>\n",
              "    </tr>\n",
              "    <tr>\n",
              "      <th>3</th>\n",
              "      <td>6</td>\n",
              "      <td>NaN</td>\n",
              "      <td>NaN</td>\n",
              "      <td>13,000 people receive #wildfires evacuation or...</td>\n",
              "      <td>1</td>\n",
              "    </tr>\n",
              "    <tr>\n",
              "      <th>4</th>\n",
              "      <td>7</td>\n",
              "      <td>NaN</td>\n",
              "      <td>NaN</td>\n",
              "      <td>Just got sent this photo from Ruby #Alaska as ...</td>\n",
              "      <td>1</td>\n",
              "    </tr>\n",
              "  </tbody>\n",
              "</table>\n",
              "</div>"
            ],
            "text/plain": [
              "   id keyword  ...                                               text target\n",
              "0   1     NaN  ...  Our Deeds are the Reason of this #earthquake M...      1\n",
              "1   4     NaN  ...             Forest fire near La Ronge Sask. Canada      1\n",
              "2   5     NaN  ...  All residents asked to 'shelter in place' are ...      1\n",
              "3   6     NaN  ...  13,000 people receive #wildfires evacuation or...      1\n",
              "4   7     NaN  ...  Just got sent this photo from Ruby #Alaska as ...      1\n",
              "\n",
              "[5 rows x 5 columns]"
            ]
          },
          "metadata": {},
          "execution_count": 14
        }
      ]
    },
    {
      "cell_type": "code",
      "metadata": {
        "id": "crvR6qPIhJrj",
        "outputId": "d5db4091-5edf-43d6-ee93-fa94e9972001",
        "colab": {
          "base_uri": "https://localhost:8080/",
          "height": 238
        }
      },
      "source": [
        "#plot random 5 rows in dataset \n",
        "train_data.sample(5)"
      ],
      "execution_count": 13,
      "outputs": [
        {
          "output_type": "execute_result",
          "data": {
            "text/html": [
              "<div>\n",
              "<style scoped>\n",
              "    .dataframe tbody tr th:only-of-type {\n",
              "        vertical-align: middle;\n",
              "    }\n",
              "\n",
              "    .dataframe tbody tr th {\n",
              "        vertical-align: top;\n",
              "    }\n",
              "\n",
              "    .dataframe thead th {\n",
              "        text-align: right;\n",
              "    }\n",
              "</style>\n",
              "<table border=\"1\" class=\"dataframe\">\n",
              "  <thead>\n",
              "    <tr style=\"text-align: right;\">\n",
              "      <th></th>\n",
              "      <th>id</th>\n",
              "      <th>keyword</th>\n",
              "      <th>location</th>\n",
              "      <th>text</th>\n",
              "      <th>target</th>\n",
              "    </tr>\n",
              "  </thead>\n",
              "  <tbody>\n",
              "    <tr>\n",
              "      <th>752</th>\n",
              "      <td>1084</td>\n",
              "      <td>blew%20up</td>\n",
              "      <td>the local dump</td>\n",
              "      <td>i'd still be team usagi even if she blew up th...</td>\n",
              "      <td>0</td>\n",
              "    </tr>\n",
              "    <tr>\n",
              "      <th>939</th>\n",
              "      <td>1360</td>\n",
              "      <td>blown%20up</td>\n",
              "      <td>Los Angeles</td>\n",
              "      <td>Even though BSG had been sufficiently hyped up...</td>\n",
              "      <td>1</td>\n",
              "    </tr>\n",
              "    <tr>\n",
              "      <th>7001</th>\n",
              "      <td>10038</td>\n",
              "      <td>twister</td>\n",
              "      <td>NaN</td>\n",
              "      <td>'How many men would a human hew if a human cou...</td>\n",
              "      <td>0</td>\n",
              "    </tr>\n",
              "    <tr>\n",
              "      <th>2211</th>\n",
              "      <td>3167</td>\n",
              "      <td>deluge</td>\n",
              "      <td>Melbourne-ish</td>\n",
              "      <td>Despite the deluge of #FantasticFour notices o...</td>\n",
              "      <td>0</td>\n",
              "    </tr>\n",
              "    <tr>\n",
              "      <th>4672</th>\n",
              "      <td>6642</td>\n",
              "      <td>inundation</td>\n",
              "      <td>NaN</td>\n",
              "      <td>Punjab government flood relief platform: http:...</td>\n",
              "      <td>1</td>\n",
              "    </tr>\n",
              "  </tbody>\n",
              "</table>\n",
              "</div>"
            ],
            "text/plain": [
              "         id  ... target\n",
              "752    1084  ...      0\n",
              "939    1360  ...      1\n",
              "7001  10038  ...      0\n",
              "2211   3167  ...      0\n",
              "4672   6642  ...      1\n",
              "\n",
              "[5 rows x 5 columns]"
            ]
          },
          "metadata": {},
          "execution_count": 13
        }
      ]
    },
    {
      "cell_type": "code",
      "metadata": {
        "id": "HI6NF7DakaKz",
        "outputId": "d105dde0-73c5-4a8b-8430-dc3b0f9a8aaf",
        "colab": {
          "base_uri": "https://localhost:8080/"
        }
      },
      "source": [
        "#understand the counts of missing values in dataset \n",
        "num_cols = list(train_data.columns)\n",
        "null_val={}\n",
        "\n",
        "for col in num_cols:\n",
        "    null_val[col]=len(train_data[train_data[col].isnull()==True])\n",
        "    print(col,':',null_val[col])"
      ],
      "execution_count": 17,
      "outputs": [
        {
          "output_type": "stream",
          "name": "stdout",
          "text": [
            "id : 0\n",
            "keyword : 61\n",
            "location : 2533\n",
            "text : 0\n",
            "target : 0\n"
          ]
        }
      ]
    },
    {
      "cell_type": "code",
      "metadata": {
        "id": "8GDNhNKcmfPG",
        "outputId": "8425c2ec-78bb-4cba-a39e-2492e6b8d905",
        "colab": {
          "base_uri": "https://localhost:8080/",
          "height": 295
        }
      },
      "source": [
        "#explore distribution of dataset \n",
        "\n",
        "sns.countplot(x = train_data['target'], palette = 'rocket')\n",
        "ax = plt.gca()\n",
        "y_max = train_data['target'].value_counts().max() \n",
        "ax.set_ylim([0, round(y_max)])\n",
        "for p in ax.patches:\n",
        "    ax.text(p.get_x() + p.get_width()/2., 1700, '%d' % int(p.get_height()), \n",
        "            fontsize=12, color='white', ha='center', va= 'bottom')\n",
        "plt.title(\"Observations by Classification Type\")\n",
        "plt.show()"
      ],
      "execution_count": 62,
      "outputs": [
        {
          "output_type": "display_data",
          "data": {
            "image/png": "[encoded data removed]",
            "text/plain": [
              "<Figure size 432x288 with 1 Axes>"
            ]
          },
          "metadata": {
            "needs_background": "light"
          }
        }
      ]
    },
    {
      "cell_type": "code",
      "metadata": {
        "id": "Vd9LRmYGBow4"
      },
      "source": [
        "#Percentage of disaster tweets per country (use hbar)\n",
        "\n"
      ],
      "execution_count": null,
      "outputs": []
    },
    {
      "cell_type": "code",
      "metadata": {
        "id": "sG6KxUIuB7-O"
      },
      "source": [
        "# look for duplication in dataset "
      ],
      "execution_count": null,
      "outputs": []
    },
    {
      "cell_type": "markdown",
      "metadata": {
        "id": "VskJVf14kDSM"
      },
      "source": [
        "**Initial Observations:**\n",
        "\n",
        "*   Dataset contains 7613 observations (i.e. rows) and 5 features (i.e. columns) \n",
        "*   Dataset contains missing values and spaces, indicated by NaN and %20 values  \n",
        "*   There are 61 missing values under the keyword column \n",
        "*   There are 2533 missing values in the location column \n",
        "*   The training set shows an imbalance between classification types (i.e. tweet is/is not about a disaster) \n",
        "\n",
        "\n",
        "\n",
        "\n",
        "\n",
        "\n",
        "\n",
        "\n",
        "\n"
      ]
    },
    {
      "cell_type": "code",
      "metadata": {
        "id": "fn_1UBKECAcu"
      },
      "source": [
        "#data cleaning "
      ],
      "execution_count": null,
      "outputs": []
    }
  ]
}