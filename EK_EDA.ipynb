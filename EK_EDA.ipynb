{
  "nbformat": 4,
  "nbformat_minor": 0,
  "metadata": {
    "colab": {
      "name": "Untitled1.ipynb",
      "provenance": [],
      "authorship_tag": "ABX9TyN5xxgEzpAcymjn/kxzFN/V",
      "include_colab_link": true
    },
    "kernelspec": {
      "name": "python3",
      "display_name": "Python 3"
    },
    "language_info": {
      "name": "python"
    }
  },
  "cells": [
    {
      "cell_type": "markdown",
      "metadata": {
        "id": "view-in-github",
        "colab_type": "text"
      },
      "source": [
        "<a href=\"https://colab.research.google.com/github/benon33/w207-final/blob/main/EK_EDA.ipynb\" target=\"_parent\"><img src=\"https://colab.research.google.com/assets/colab-badge.svg\" alt=\"Open In Colab\"/></a>"
      ]
    },
    {
      "cell_type": "code",
      "metadata": {
        "id": "T59nxbzQhDIZ"
      },
      "source": [
        "#import libraries\n",
        "%matplotlib inline\n",
        "\n",
        "import urllib.request as urllib2 # For python3\n",
        "import numpy as np\n",
        "import pandas as pd\n",
        "import matplotlib.pyplot as plt\n",
        "import seaborn as sns\n",
        "import re\n",
        "import time\n",
        "\n",
        "from sklearn.feature_extraction.text import CountVectorizer\n",
        "from sklearn.linear_model import LogisticRegression\n",
        "from sklearn.naive_bayes import BernoulliNB\n",
        "from sklearn.naive_bayes import MultinomialNB\n",
        "from sklearn.naive_bayes import GaussianNB\n",
        "\n",
        "# SK-learn libraries for evaluation.\n",
        "from sklearn.metrics import confusion_matrix\n",
        "from sklearn import metrics\n",
        "from sklearn.metrics import classification_report\n",
        "\n",
        "# Set the randomizer seed so results are the same each time.\n",
        "np.random.seed(0)"
      ],
      "execution_count": 72,
      "outputs": []
    },
    {
      "cell_type": "code",
      "metadata": {
        "id": "AAOgUjp-XZyf"
      },
      "source": [
        "#import data\n",
        "train_data =  pd.read_csv('train.csv')\n",
        "test_data =  pd.read_csv('test.csv')"
      ],
      "execution_count": 33,
      "outputs": []
    },
    {
      "cell_type": "code",
      "metadata": {
        "colab": {
          "base_uri": "https://localhost:8080/"
        },
        "id": "RlN6eNt1n6Ha",
        "outputId": "be08a4df-964d-41e6-f132-e2f82f97f8ed"
      },
      "source": [
        "#determine the shape of the dataset \n",
        "train_data.shape[0], train_data.shape[1]"
      ],
      "execution_count": 34,
      "outputs": [
        {
          "output_type": "execute_result",
          "data": {
            "text/plain": [
              "(7613, 5)"
            ]
          },
          "metadata": {},
          "execution_count": 34
        }
      ]
    },
    {
      "cell_type": "code",
      "metadata": {
        "colab": {
          "base_uri": "https://localhost:8080/",
          "height": 204
        },
        "id": "dL4BLSm0j7eu",
        "outputId": "e44ed59a-27f3-46db-e385-fe7079711ab7"
      },
      "source": [
        "#plot first 5 rows in dataset\n",
        "train_data.head(5)"
      ],
      "execution_count": 35,
      "outputs": [
        {
          "output_type": "execute_result",
          "data": {
            "text/html": [
              "<div>\n",
              "<style scoped>\n",
              "    .dataframe tbody tr th:only-of-type {\n",
              "        vertical-align: middle;\n",
              "    }\n",
              "\n",
              "    .dataframe tbody tr th {\n",
              "        vertical-align: top;\n",
              "    }\n",
              "\n",
              "    .dataframe thead th {\n",
              "        text-align: right;\n",
              "    }\n",
              "</style>\n",
              "<table border=\"1\" class=\"dataframe\">\n",
              "  <thead>\n",
              "    <tr style=\"text-align: right;\">\n",
              "      <th></th>\n",
              "      <th>id</th>\n",
              "      <th>keyword</th>\n",
              "      <th>location</th>\n",
              "      <th>text</th>\n",
              "      <th>target</th>\n",
              "    </tr>\n",
              "  </thead>\n",
              "  <tbody>\n",
              "    <tr>\n",
              "      <th>0</th>\n",
              "      <td>1</td>\n",
              "      <td>NaN</td>\n",
              "      <td>NaN</td>\n",
              "      <td>Our Deeds are the Reason of this #earthquake M...</td>\n",
              "      <td>1</td>\n",
              "    </tr>\n",
              "    <tr>\n",
              "      <th>1</th>\n",
              "      <td>4</td>\n",
              "      <td>NaN</td>\n",
              "      <td>NaN</td>\n",
              "      <td>Forest fire near La Ronge Sask. Canada</td>\n",
              "      <td>1</td>\n",
              "    </tr>\n",
              "    <tr>\n",
              "      <th>2</th>\n",
              "      <td>5</td>\n",
              "      <td>NaN</td>\n",
              "      <td>NaN</td>\n",
              "      <td>All residents asked to 'shelter in place' are ...</td>\n",
              "      <td>1</td>\n",
              "    </tr>\n",
              "    <tr>\n",
              "      <th>3</th>\n",
              "      <td>6</td>\n",
              "      <td>NaN</td>\n",
              "      <td>NaN</td>\n",
              "      <td>13,000 people receive #wildfires evacuation or...</td>\n",
              "      <td>1</td>\n",
              "    </tr>\n",
              "    <tr>\n",
              "      <th>4</th>\n",
              "      <td>7</td>\n",
              "      <td>NaN</td>\n",
              "      <td>NaN</td>\n",
              "      <td>Just got sent this photo from Ruby #Alaska as ...</td>\n",
              "      <td>1</td>\n",
              "    </tr>\n",
              "  </tbody>\n",
              "</table>\n",
              "</div>"
            ],
            "text/plain": [
              "   id keyword  ...                                               text target\n",
              "0   1     NaN  ...  Our Deeds are the Reason of this #earthquake M...      1\n",
              "1   4     NaN  ...             Forest fire near La Ronge Sask. Canada      1\n",
              "2   5     NaN  ...  All residents asked to 'shelter in place' are ...      1\n",
              "3   6     NaN  ...  13,000 people receive #wildfires evacuation or...      1\n",
              "4   7     NaN  ...  Just got sent this photo from Ruby #Alaska as ...      1\n",
              "\n",
              "[5 rows x 5 columns]"
            ]
          },
          "metadata": {},
          "execution_count": 35
        }
      ]
    },
    {
      "cell_type": "code",
      "metadata": {
        "colab": {
          "base_uri": "https://localhost:8080/",
          "height": 204
        },
        "id": "crvR6qPIhJrj",
        "outputId": "fe3d1c47-283f-43c2-f919-f764f6cb3b24"
      },
      "source": [
        "#plot random 5 rows in dataset \n",
        "train_data.sample(5)"
      ],
      "execution_count": 36,
      "outputs": [
        {
          "output_type": "execute_result",
          "data": {
            "text/html": [
              "<div>\n",
              "<style scoped>\n",
              "    .dataframe tbody tr th:only-of-type {\n",
              "        vertical-align: middle;\n",
              "    }\n",
              "\n",
              "    .dataframe tbody tr th {\n",
              "        vertical-align: top;\n",
              "    }\n",
              "\n",
              "    .dataframe thead th {\n",
              "        text-align: right;\n",
              "    }\n",
              "</style>\n",
              "<table border=\"1\" class=\"dataframe\">\n",
              "  <thead>\n",
              "    <tr style=\"text-align: right;\">\n",
              "      <th></th>\n",
              "      <th>id</th>\n",
              "      <th>keyword</th>\n",
              "      <th>location</th>\n",
              "      <th>text</th>\n",
              "      <th>target</th>\n",
              "    </tr>\n",
              "  </thead>\n",
              "  <tbody>\n",
              "    <tr>\n",
              "      <th>2539</th>\n",
              "      <td>3643</td>\n",
              "      <td>desolation</td>\n",
              "      <td>Istanbul</td>\n",
              "      <td>#np agalloch - the desolation song</td>\n",
              "      <td>0</td>\n",
              "    </tr>\n",
              "    <tr>\n",
              "      <th>5658</th>\n",
              "      <td>8070</td>\n",
              "      <td>rescue</td>\n",
              "      <td>Surry Hills, Sydney</td>\n",
              "      <td>Any lengths to rescue a cat in need! http://t....</td>\n",
              "      <td>0</td>\n",
              "    </tr>\n",
              "    <tr>\n",
              "      <th>5483</th>\n",
              "      <td>7824</td>\n",
              "      <td>quarantine</td>\n",
              "      <td>NaN</td>\n",
              "      <td>Reddit Will Now Quarantine Offensive Content h...</td>\n",
              "      <td>0</td>\n",
              "    </tr>\n",
              "    <tr>\n",
              "      <th>3396</th>\n",
              "      <td>4860</td>\n",
              "      <td>evacuation</td>\n",
              "      <td>Moncton, New Brunswick</td>\n",
              "      <td>Gas leak forces evacuation in east Saint John ...</td>\n",
              "      <td>1</td>\n",
              "    </tr>\n",
              "    <tr>\n",
              "      <th>2092</th>\n",
              "      <td>3006</td>\n",
              "      <td>death</td>\n",
              "      <td>NaN</td>\n",
              "      <td>my vibrator shaped vape done busted</td>\n",
              "      <td>0</td>\n",
              "    </tr>\n",
              "  </tbody>\n",
              "</table>\n",
              "</div>"
            ],
            "text/plain": [
              "        id  ... target\n",
              "2539  3643  ...      0\n",
              "5658  8070  ...      0\n",
              "5483  7824  ...      0\n",
              "3396  4860  ...      1\n",
              "2092  3006  ...      0\n",
              "\n",
              "[5 rows x 5 columns]"
            ]
          },
          "metadata": {},
          "execution_count": 36
        }
      ]
    },
    {
      "cell_type": "code",
      "metadata": {
        "colab": {
          "base_uri": "https://localhost:8080/"
        },
        "id": "HI6NF7DakaKz",
        "outputId": "683732f9-74eb-43e6-9b4e-8849c44df381"
      },
      "source": [
        "#understand the counts of missing values in dataset \n",
        "num_cols = list(train_data.columns)\n",
        "null_val={}\n",
        "\n",
        "for col in num_cols:\n",
        "    null_val[col]=len(train_data[train_data[col].isnull()==True])\n",
        "    print(col,':',null_val[col])"
      ],
      "execution_count": 37,
      "outputs": [
        {
          "output_type": "stream",
          "name": "stdout",
          "text": [
            "id : 0\n",
            "keyword : 61\n",
            "location : 2533\n",
            "text : 0\n",
            "target : 0\n"
          ]
        }
      ]
    },
    {
      "cell_type": "code",
      "metadata": {
        "colab": {
          "base_uri": "https://localhost:8080/",
          "height": 295
        },
        "id": "8GDNhNKcmfPG",
        "outputId": "99ba94e0-8635-4081-d4a0-bbd41bdf89f1"
      },
      "source": [
        "#CREDIT TO SOURCES: \n",
        "#https://stackoverflow.com/questions/28931224/adding-value-labels-on-a-matplotlib-bar-chart \n",
        "\n",
        "#explore distribution of dataset \n",
        "\n",
        "sns.countplot(x = train_data['target'], palette = 'rocket')\n",
        "ax = plt.gca()\n",
        "y_max = train_data['target'].value_counts().max() \n",
        "ax.set_ylim([0, round(y_max)])\n",
        "for p in ax.patches:\n",
        "    ax.text(p.get_x() + p.get_width()/2., 1700, '%d' % int(p.get_height()), \n",
        "            fontsize=12, color='white', ha='center', va= 'bottom')\n",
        "plt.title(\"Observations by Classification Type\")\n",
        "plt.show()"
      ],
      "execution_count": 38,
      "outputs": [
        {
          "output_type": "display_data",
          "data": {
            "image/png": "[encoded data removed]",
            "text/plain": [
              "<Figure size 432x288 with 1 Axes>"
            ]
          },
          "metadata": {
            "needs_background": "light"
          }
        }
      ]
    },
    {
      "cell_type": "code",
      "metadata": {
        "colab": {
          "base_uri": "https://localhost:8080/"
        },
        "id": "sG6KxUIuB7-O",
        "outputId": "b03382da-f5de-46f2-ca4e-c193aa603c0c"
      },
      "source": [
        "#CREDIT TO SOURCE: https://stackoverflow.com/questions/35584085/how-to-count-duplicate-rows-in-pandas-dataframe\n",
        "# look for duplication in dataset \n",
        "\n",
        "duplct_cnt = len(train_data['text'])-len(train_data['text'].drop_duplicates())\n",
        "duplct_cnt"
      ],
      "execution_count": 39,
      "outputs": [
        {
          "output_type": "execute_result",
          "data": {
            "text/plain": [
              "110"
            ]
          },
          "metadata": {},
          "execution_count": 39
        }
      ]
    },
    {
      "cell_type": "code",
      "metadata": {
        "colab": {
          "base_uri": "https://localhost:8080/",
          "height": 419
        },
        "id": "PROdfV_uAU0R",
        "outputId": "5eda1145-e16f-4480-e368-1dccc3d9e8bd"
      },
      "source": [
        "#CREDIT TO SOURCES: \n",
        "#https://pandas.pydata.org/pandas-docs/stable/reference/api/pandas.DataFrame.duplicated.html \n",
        "\n",
        "#create a flag for duplicate tweets\n",
        "df = train_data\n",
        "df['duplicate_tweet'] = np.where(df['text'].duplicated(keep=False), 'yes', 'no')\n",
        "df"
      ],
      "execution_count": 40,
      "outputs": [
        {
          "output_type": "execute_result",
          "data": {
            "text/html": [
              "<div>\n",
              "<style scoped>\n",
              "    .dataframe tbody tr th:only-of-type {\n",
              "        vertical-align: middle;\n",
              "    }\n",
              "\n",
              "    .dataframe tbody tr th {\n",
              "        vertical-align: top;\n",
              "    }\n",
              "\n",
              "    .dataframe thead th {\n",
              "        text-align: right;\n",
              "    }\n",
              "</style>\n",
              "<table border=\"1\" class=\"dataframe\">\n",
              "  <thead>\n",
              "    <tr style=\"text-align: right;\">\n",
              "      <th></th>\n",
              "      <th>id</th>\n",
              "      <th>keyword</th>\n",
              "      <th>location</th>\n",
              "      <th>text</th>\n",
              "      <th>target</th>\n",
              "      <th>duplicate_tweet</th>\n",
              "    </tr>\n",
              "  </thead>\n",
              "  <tbody>\n",
              "    <tr>\n",
              "      <th>0</th>\n",
              "      <td>1</td>\n",
              "      <td>NaN</td>\n",
              "      <td>NaN</td>\n",
              "      <td>Our Deeds are the Reason of this #earthquake M...</td>\n",
              "      <td>1</td>\n",
              "      <td>no</td>\n",
              "    </tr>\n",
              "    <tr>\n",
              "      <th>1</th>\n",
              "      <td>4</td>\n",
              "      <td>NaN</td>\n",
              "      <td>NaN</td>\n",
              "      <td>Forest fire near La Ronge Sask. Canada</td>\n",
              "      <td>1</td>\n",
              "      <td>no</td>\n",
              "    </tr>\n",
              "    <tr>\n",
              "      <th>2</th>\n",
              "      <td>5</td>\n",
              "      <td>NaN</td>\n",
              "      <td>NaN</td>\n",
              "      <td>All residents asked to 'shelter in place' are ...</td>\n",
              "      <td>1</td>\n",
              "      <td>no</td>\n",
              "    </tr>\n",
              "    <tr>\n",
              "      <th>3</th>\n",
              "      <td>6</td>\n",
              "      <td>NaN</td>\n",
              "      <td>NaN</td>\n",
              "      <td>13,000 people receive #wildfires evacuation or...</td>\n",
              "      <td>1</td>\n",
              "      <td>no</td>\n",
              "    </tr>\n",
              "    <tr>\n",
              "      <th>4</th>\n",
              "      <td>7</td>\n",
              "      <td>NaN</td>\n",
              "      <td>NaN</td>\n",
              "      <td>Just got sent this photo from Ruby #Alaska as ...</td>\n",
              "      <td>1</td>\n",
              "      <td>no</td>\n",
              "    </tr>\n",
              "    <tr>\n",
              "      <th>...</th>\n",
              "      <td>...</td>\n",
              "      <td>...</td>\n",
              "      <td>...</td>\n",
              "      <td>...</td>\n",
              "      <td>...</td>\n",
              "      <td>...</td>\n",
              "    </tr>\n",
              "    <tr>\n",
              "      <th>7608</th>\n",
              "      <td>10869</td>\n",
              "      <td>NaN</td>\n",
              "      <td>NaN</td>\n",
              "      <td>Two giant cranes holding a bridge collapse int...</td>\n",
              "      <td>1</td>\n",
              "      <td>no</td>\n",
              "    </tr>\n",
              "    <tr>\n",
              "      <th>7609</th>\n",
              "      <td>10870</td>\n",
              "      <td>NaN</td>\n",
              "      <td>NaN</td>\n",
              "      <td>@aria_ahrary @TheTawniest The out of control w...</td>\n",
              "      <td>1</td>\n",
              "      <td>yes</td>\n",
              "    </tr>\n",
              "    <tr>\n",
              "      <th>7610</th>\n",
              "      <td>10871</td>\n",
              "      <td>NaN</td>\n",
              "      <td>NaN</td>\n",
              "      <td>M1.94 [01:04 UTC]?5km S of Volcano Hawaii. htt...</td>\n",
              "      <td>1</td>\n",
              "      <td>yes</td>\n",
              "    </tr>\n",
              "    <tr>\n",
              "      <th>7611</th>\n",
              "      <td>10872</td>\n",
              "      <td>NaN</td>\n",
              "      <td>NaN</td>\n",
              "      <td>Police investigating after an e-bike collided ...</td>\n",
              "      <td>1</td>\n",
              "      <td>yes</td>\n",
              "    </tr>\n",
              "    <tr>\n",
              "      <th>7612</th>\n",
              "      <td>10873</td>\n",
              "      <td>NaN</td>\n",
              "      <td>NaN</td>\n",
              "      <td>The Latest: More Homes Razed by Northern Calif...</td>\n",
              "      <td>1</td>\n",
              "      <td>no</td>\n",
              "    </tr>\n",
              "  </tbody>\n",
              "</table>\n",
              "<p>7613 rows × 6 columns</p>\n",
              "</div>"
            ],
            "text/plain": [
              "         id keyword  ... target duplicate_tweet\n",
              "0         1     NaN  ...      1              no\n",
              "1         4     NaN  ...      1              no\n",
              "2         5     NaN  ...      1              no\n",
              "3         6     NaN  ...      1              no\n",
              "4         7     NaN  ...      1              no\n",
              "...     ...     ...  ...    ...             ...\n",
              "7608  10869     NaN  ...      1              no\n",
              "7609  10870     NaN  ...      1             yes\n",
              "7610  10871     NaN  ...      1             yes\n",
              "7611  10872     NaN  ...      1             yes\n",
              "7612  10873     NaN  ...      1              no\n",
              "\n",
              "[7613 rows x 6 columns]"
            ]
          },
          "metadata": {},
          "execution_count": 40
        }
      ]
    },
    {
      "cell_type": "code",
      "metadata": {
        "colab": {
          "base_uri": "https://localhost:8080/",
          "height": 501
        },
        "id": "L52TuADNBtsq",
        "outputId": "479995d4-ef54-4d79-ed42-1c74e988235e"
      },
      "source": [
        "#look for most common duplicate tweet\n",
        "df[df.duplicate_tweet == 'yes'].pivot_table(index='text', values='target', aggfunc='count').sort_values(by='target', ascending=False)\n"
      ],
      "execution_count": 41,
      "outputs": [
        {
          "output_type": "execute_result",
          "data": {
            "text/html": [
              "<div>\n",
              "<style scoped>\n",
              "    .dataframe tbody tr th:only-of-type {\n",
              "        vertical-align: middle;\n",
              "    }\n",
              "\n",
              "    .dataframe tbody tr th {\n",
              "        vertical-align: top;\n",
              "    }\n",
              "\n",
              "    .dataframe thead th {\n",
              "        text-align: right;\n",
              "    }\n",
              "</style>\n",
              "<table border=\"1\" class=\"dataframe\">\n",
              "  <thead>\n",
              "    <tr style=\"text-align: right;\">\n",
              "      <th></th>\n",
              "      <th>target</th>\n",
              "    </tr>\n",
              "    <tr>\n",
              "      <th>text</th>\n",
              "      <th></th>\n",
              "    </tr>\n",
              "  </thead>\n",
              "  <tbody>\n",
              "    <tr>\n",
              "      <th>11-Year-Old Boy Charged With Manslaughter of Toddler: Report: An 11-year-old boy has been charged with manslaughter over the fatal sh...</th>\n",
              "      <td>10</td>\n",
              "    </tr>\n",
              "    <tr>\n",
              "      <th>He came to a land which was engulfed in tribal war and turned it into a land of peace i.e. Madinah. #ProphetMuhammad #islam</th>\n",
              "      <td>6</td>\n",
              "    </tr>\n",
              "    <tr>\n",
              "      <th>The Prophet (peace be upon him) said 'Save yourself from Hellfire even if it is by giving half a date in charity.'</th>\n",
              "      <td>6</td>\n",
              "    </tr>\n",
              "    <tr>\n",
              "      <th>#Bestnaijamade: 16yr old PKK suicide bomber who detonated bomb in ... http://t.co/KSAwlYuX02 bestnaijamade bestnaijamade bestnaijamade beÛ_</th>\n",
              "      <td>6</td>\n",
              "    </tr>\n",
              "    <tr>\n",
              "      <th>Madhya Pradesh Train Derailment: Village Youth Saved Many Lives</th>\n",
              "      <td>5</td>\n",
              "    </tr>\n",
              "    <tr>\n",
              "      <th>...</th>\n",
              "      <td>...</td>\n",
              "    </tr>\n",
              "    <tr>\n",
              "      <th>General News Û¢åÊ'Demolition of houses on waterways begins at Achimota Mile 7 ' via @233liveOnline. Full story at http://t.co/iO7kUUg1uq</th>\n",
              "      <td>2</td>\n",
              "    </tr>\n",
              "    <tr>\n",
              "      <th>Hellfire! We donÛªt even want to think about it or mention it so letÛªs not do anything that leads to it #islam!</th>\n",
              "      <td>2</td>\n",
              "    </tr>\n",
              "    <tr>\n",
              "      <th>Hellfire! We donÛªt even want to think about it or mention it so letÛªs not do anything that leads to it!</th>\n",
              "      <td>2</td>\n",
              "    </tr>\n",
              "    <tr>\n",
              "      <th>I Pledge Allegiance To The P.O.P.E. And The Burning Buildings of Epic City. ??????</th>\n",
              "      <td>2</td>\n",
              "    </tr>\n",
              "    <tr>\n",
              "      <th>wowo--=== 12000 Nigerian refugees repatriated from Cameroon</th>\n",
              "      <td>2</td>\n",
              "    </tr>\n",
              "  </tbody>\n",
              "</table>\n",
              "<p>69 rows × 1 columns</p>\n",
              "</div>"
            ],
            "text/plain": [
              "                                                    target\n",
              "text                                                      \n",
              "11-Year-Old Boy Charged With Manslaughter of To...      10\n",
              "He came to a land which was engulfed in tribal ...       6\n",
              "The Prophet (peace be upon him) said 'Save your...       6\n",
              "#Bestnaijamade: 16yr old PKK suicide bomber who...       6\n",
              "Madhya Pradesh Train Derailment: Village Youth ...       5\n",
              "...                                                    ...\n",
              "General News Û¢åÊ'Demolition of houses on wate...       2\n",
              "Hellfire! We donÛªt even want to think about i...       2\n",
              "Hellfire! We donÛªt even want to think about i...       2\n",
              "I Pledge Allegiance To The P.O.P.E. And The Bur...       2\n",
              "wowo--=== 12000 Nigerian refugees repatriated f...       2\n",
              "\n",
              "[69 rows x 1 columns]"
            ]
          },
          "metadata": {},
          "execution_count": 41
        }
      ]
    },
    {
      "cell_type": "code",
      "metadata": {
        "colab": {
          "base_uri": "https://localhost:8080/",
          "height": 419
        },
        "id": "LEbf6iiiEyCi",
        "outputId": "f54f21a7-f239-446f-dfa8-ccf58cabe09b"
      },
      "source": [
        "#check if duplicates are classified the same way\n",
        "\n",
        "dups = df[df.duplicate_tweet == 'yes']\n",
        "dups2 = dups[['id', 'text', 'target']].sort_values(by='text', ascending=False)\n",
        "dups2"
      ],
      "execution_count": 42,
      "outputs": [
        {
          "output_type": "execute_result",
          "data": {
            "text/html": [
              "<div>\n",
              "<style scoped>\n",
              "    .dataframe tbody tr th:only-of-type {\n",
              "        vertical-align: middle;\n",
              "    }\n",
              "\n",
              "    .dataframe tbody tr th {\n",
              "        vertical-align: top;\n",
              "    }\n",
              "\n",
              "    .dataframe thead th {\n",
              "        text-align: right;\n",
              "    }\n",
              "</style>\n",
              "<table border=\"1\" class=\"dataframe\">\n",
              "  <thead>\n",
              "    <tr style=\"text-align: right;\">\n",
              "      <th></th>\n",
              "      <th>id</th>\n",
              "      <th>text</th>\n",
              "      <th>target</th>\n",
              "    </tr>\n",
              "  </thead>\n",
              "  <tbody>\n",
              "    <tr>\n",
              "      <th>5620</th>\n",
              "      <td>8018</td>\n",
              "      <td>wowo--=== 12000 Nigerian refugees repatriated ...</td>\n",
              "      <td>1</td>\n",
              "    </tr>\n",
              "    <tr>\n",
              "      <th>5641</th>\n",
              "      <td>8044</td>\n",
              "      <td>wowo--=== 12000 Nigerian refugees repatriated ...</td>\n",
              "      <td>0</td>\n",
              "    </tr>\n",
              "    <tr>\n",
              "      <th>6091</th>\n",
              "      <td>8698</td>\n",
              "      <td>that horrible sinking feeling when youÛªve be...</td>\n",
              "      <td>1</td>\n",
              "    </tr>\n",
              "    <tr>\n",
              "      <th>6123</th>\n",
              "      <td>8739</td>\n",
              "      <td>that horrible sinking feeling when youÛªve be...</td>\n",
              "      <td>1</td>\n",
              "    </tr>\n",
              "    <tr>\n",
              "      <th>6103</th>\n",
              "      <td>8714</td>\n",
              "      <td>that horrible sinking feeling when youÛªve be...</td>\n",
              "      <td>0</td>\n",
              "    </tr>\n",
              "    <tr>\n",
              "      <th>...</th>\n",
              "      <td>...</td>\n",
              "      <td>...</td>\n",
              "      <td>...</td>\n",
              "    </tr>\n",
              "    <tr>\n",
              "      <th>6377</th>\n",
              "      <td>9113</td>\n",
              "      <td>#Bestnaijamade: 16yr old PKK suicide bomber wh...</td>\n",
              "      <td>1</td>\n",
              "    </tr>\n",
              "    <tr>\n",
              "      <th>6373</th>\n",
              "      <td>9107</td>\n",
              "      <td>#Bestnaijamade: 16yr old PKK suicide bomber wh...</td>\n",
              "      <td>1</td>\n",
              "    </tr>\n",
              "    <tr>\n",
              "      <th>4312</th>\n",
              "      <td>6123</td>\n",
              "      <td>#Allah describes piling up #wealth thinking it...</td>\n",
              "      <td>1</td>\n",
              "    </tr>\n",
              "    <tr>\n",
              "      <th>4299</th>\n",
              "      <td>6105</td>\n",
              "      <td>#Allah describes piling up #wealth thinking it...</td>\n",
              "      <td>0</td>\n",
              "    </tr>\n",
              "    <tr>\n",
              "      <th>4290</th>\n",
              "      <td>6094</td>\n",
              "      <td>#Allah describes piling up #wealth thinking it...</td>\n",
              "      <td>0</td>\n",
              "    </tr>\n",
              "  </tbody>\n",
              "</table>\n",
              "<p>179 rows × 3 columns</p>\n",
              "</div>"
            ],
            "text/plain": [
              "        id                                               text  target\n",
              "5620  8018  wowo--=== 12000 Nigerian refugees repatriated ...       1\n",
              "5641  8044  wowo--=== 12000 Nigerian refugees repatriated ...       0\n",
              "6091  8698  that horrible sinking feeling when youÛªve be...       1\n",
              "6123  8739  that horrible sinking feeling when youÛªve be...       1\n",
              "6103  8714  that horrible sinking feeling when youÛªve be...       0\n",
              "...    ...                                                ...     ...\n",
              "6377  9113  #Bestnaijamade: 16yr old PKK suicide bomber wh...       1\n",
              "6373  9107  #Bestnaijamade: 16yr old PKK suicide bomber wh...       1\n",
              "4312  6123  #Allah describes piling up #wealth thinking it...       1\n",
              "4299  6105  #Allah describes piling up #wealth thinking it...       0\n",
              "4290  6094  #Allah describes piling up #wealth thinking it...       0\n",
              "\n",
              "[179 rows x 3 columns]"
            ]
          },
          "metadata": {},
          "execution_count": 42
        }
      ]
    },
    {
      "cell_type": "markdown",
      "metadata": {
        "id": "VskJVf14kDSM"
      },
      "source": [
        "**Initial Observations:**\n",
        "\n",
        "*   Dataset contains 7613 observations (i.e. rows) and 5 features (i.e. columns) \n",
        "*   Dataset contains missing values and spaces, indicated by NaN and %20 values  \n",
        "*   There are 61 missing values under the keyword column \n",
        "*   There are 2533 missing values in the location column \n",
        "*   The training set shows an imbalance between classification types (i.e. tweet is/is not about a disaster) \n",
        "*   There are 110 duplicate tweets in the training set\n",
        "*   Duplicate tweets are not always classified in the same way\n",
        "\n",
        "\n",
        "\n",
        "\n",
        "\n",
        "\n",
        "\n",
        "\n",
        "\n",
        "\n",
        "\n"
      ]
    },
    {
      "cell_type": "code",
      "metadata": {
        "id": "fn_1UBKECAcu"
      },
      "source": [
        "#CREDIT TO SOURCES: \n",
        "#https://towardsdatascience.com/regex-essential-for-nlp-ee0336ef988d\n",
        "\n",
        "#data cleaning \n",
        "def drop_dup(df): \n",
        "    #remove duplicates \n",
        "    df.drop_duplicates(subset=['text'], keep='first')\n",
        "    return df\n",
        "\n",
        "def text_clean(text):\n",
        "  #remove line breaks\n",
        "  text = re.sub(r\"\\n\",\"\",text)\n",
        "\n",
        "  #convert to lowercase \n",
        "  text = text.lower()\n",
        "\n",
        "  #remove digits and currencies \n",
        "  text = re.sub(r\"\\d+\",\"\",text) \n",
        "  text = re.sub(r'[\\$\\d+\\d+\\$]', \"\", text)      \n",
        "\n",
        "  #remove dates \n",
        "  text = re.sub(r'\\d+[\\.\\/-]\\d+[\\.\\/-]\\d+', '', text)\n",
        "  text = re.sub(r'\\d+[\\.\\/-]\\d+[\\.\\/-]\\d+', '', text)\n",
        "  text = re.sub(r'\\d+[\\.\\/-]\\d+[\\.\\/-]\\d+', '', text)\n",
        "\n",
        "  #remove non-ascii\n",
        "  text = re.sub(r'[^\\x00-\\x7f]',r' ',text) \n",
        "\n",
        "  #remove punctuation\n",
        "  text = re.sub(r'[^\\w\\s]','',text) \n",
        "\n",
        "  #remove hyperlinks\n",
        "  text = re.sub(r'https?:\\/\\/.*[\\r\\n]*', '', text)\n",
        "\n",
        "  #replace extra whitespaces with a single one \n",
        "  #text = re.sub(re.sub(' +', ' ', text)\n",
        "  return text\n",
        "\n",
        "\n",
        "train_data['clean_text'] = train_data['text'].apply(lambda x : text_clean(x))"
      ],
      "execution_count": 43,
      "outputs": []
    },
    {
      "cell_type": "code",
      "metadata": {
        "colab": {
          "base_uri": "https://localhost:8080/"
        },
        "id": "nc6NQykHW0Z0",
        "outputId": "895ed5ef-a531-4e62-ae61-33c0cc9338cb"
      },
      "source": [
        "#set up data for models \n",
        "\n",
        "filter_td = drop_dup(train_data)\n",
        "\n",
        "num_test = int(train_data.shape[0] * 0.8)\n",
        "\n",
        "dev_data, dev_labels = filter_td.text[num_test:], filter_td.target[num_test:]\n",
        "train_d, train_l = filter_td.text[:num_test], filter_td.target[:num_test]\n"
      ],
      "execution_count": 57,
      "outputs": [
        {
          "output_type": "execute_result",
          "data": {
            "text/plain": [
              "1523"
            ]
          },
          "metadata": {},
          "execution_count": 57
        }
      ]
    },
    {
      "cell_type": "code",
      "metadata": {
        "id": "ROKp3FApOxuE"
      },
      "source": [
        "#transform data\n",
        "vectorizer = CountVectorizer(preprocessor=text_clean, stop_words='english')\n",
        "vtrain = vectorizer.fit_transform(train_d)\n",
        "vdev = vectorizer.transform(dev_data)\n"
      ],
      "execution_count": 65,
      "outputs": []
    },
    {
      "cell_type": "code",
      "metadata": {
        "colab": {
          "base_uri": "https://localhost:8080/"
        },
        "id": "J688pQSgR0eU",
        "outputId": "982acc38-0a85-4c8d-f754-92f6beb9e476"
      },
      "source": [
        "#produce logistic regression model\n",
        "model_lr = LogisticRegression(C = 0.5, solver=\"liblinear\", multi_class=\"auto\")\n",
        "start_time = time.time() \n",
        "model_lr.fit(vtrain, train_l)\n",
        "train_predicted_labels_lr = model_lr.predict(vdev) \n",
        "stop_time = time.time()\n",
        "total_time = stop_time - start_time\n",
        "score_lr = metrics.f1_score(dev_labels, train_predicted_labels_lr, average='weighted')\n",
        "\n",
        "score_lr, total_time"
      ],
      "execution_count": 78,
      "outputs": [
        {
          "output_type": "execute_result",
          "data": {
            "text/plain": [
              "(0.7615959038539327, 0.03442025184631348)"
            ]
          },
          "metadata": {},
          "execution_count": 78
        }
      ]
    },
    {
      "cell_type": "code",
      "metadata": {
        "colab": {
          "base_uri": "https://localhost:8080/"
        },
        "id": "hKElINkKer1Z",
        "outputId": "546cdd6f-0365-4fa1-90c9-2751ee53e146"
      },
      "source": [
        "#produce naive bayes model\n",
        "nb_model = MultinomialNB()\n",
        "start_time = time.time()  \n",
        "nb_model.fit(vtrain, train_l)\n",
        "nb_train_predicted_labels = nb_model.predict(vdev) \n",
        "stop_time = time.time()\n",
        "total_time = stop_time - start_time\n",
        "score_nb = metrics.f1_score(dev_labels, nb_train_predicted_labels, average='weighted')\n",
        "score_nb, total_time"
      ],
      "execution_count": 77,
      "outputs": [
        {
          "output_type": "execute_result",
          "data": {
            "text/plain": [
              "(0.7638446993948937, 0.005049943923950195)"
            ]
          },
          "metadata": {},
          "execution_count": 77
        }
      ]
    }
  ]
}