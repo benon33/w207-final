{
  "nbformat": 4,
  "nbformat_minor": 0,
  "metadata": {
    "colab": {
      "name": "Untitled1.ipynb",
      "provenance": [],
      "authorship_tag": "ABX9TyP5YcFwMn70LJXZHw42j98A",
      "include_colab_link": true
    },
    "kernelspec": {
      "name": "python3",
      "display_name": "Python 3"
    },
    "language_info": {
      "name": "python"
    }
  },
  "cells": [
    {
      "cell_type": "markdown",
      "metadata": {
        "id": "view-in-github",
        "colab_type": "text"
      },
      "source": [
        "<a href=\"https://colab.research.google.com/github/benon33/w207-final/blob/main/EK_EDA.ipynb\" target=\"_parent\"><img src=\"https://colab.research.google.com/assets/colab-badge.svg\" alt=\"Open In Colab\"/></a>"
      ]
    },
    {
      "cell_type": "code",
      "metadata": {
        "id": "T59nxbzQhDIZ",
        "colab": {
          "base_uri": "https://localhost:8080/"
        },
        "outputId": "7cbd9a37-e4d9-4287-c55b-285650478b8e"
      },
      "source": [
        "#import libraries\n",
        "%matplotlib inline\n",
        "\n",
        "!sudo pip install geonamescache\n",
        "\n",
        "import urllib.request as urllib2 # For python3\n",
        "import numpy as np\n",
        "import pandas as pd\n",
        "import matplotlib.pyplot as plt\n",
        "import seaborn as sns\n",
        "import re\n",
        "import time\n",
        "import collections\n",
        "import itertools\n",
        "import nltk\n",
        "nltk.download('stopwords')\n",
        "nltk.download('punkt')\n",
        "\n",
        "from sklearn.feature_extraction.text import CountVectorizer\n",
        "from sklearn.linear_model import LogisticRegression\n",
        "from sklearn.naive_bayes import BernoulliNB\n",
        "from sklearn.naive_bayes import MultinomialNB\n",
        "from sklearn.naive_bayes import GaussianNB\n",
        "from sklearn.model_selection import KFold\n",
        "from sklearn.model_selection import cross_val_score\n",
        "from sklearn.pipeline import Pipeline\n",
        "\n",
        "# SK-learn libraries for evaluation.\n",
        "from sklearn.metrics import confusion_matrix\n",
        "from sklearn import metrics\n",
        "from sklearn.metrics import classification_report\n",
        "\n",
        "# Set the randomizer seed so results are the same each time.\n",
        "np.random.seed(0)"
      ],
      "execution_count": 1,
      "outputs": [
        {
          "output_type": "stream",
          "name": "stdout",
          "text": [
            "Collecting geonamescache\n",
            "  Downloading geonamescache-1.3.0-py3-none-any.whl (2.6 MB)\n",
            "\u001b[K     |████████████████████████████████| 2.6 MB 8.6 MB/s \n",
            "\u001b[?25hInstalling collected packages: geonamescache\n",
            "Successfully installed geonamescache-1.3.0\n",
            "[nltk_data] Downloading package stopwords to /root/nltk_data...\n",
            "[nltk_data]   Unzipping corpora/stopwords.zip.\n",
            "[nltk_data] Downloading package punkt to /root/nltk_data...\n",
            "[nltk_data]   Unzipping tokenizers/punkt.zip.\n"
          ]
        }
      ]
    },
    {
      "cell_type": "code",
      "metadata": {
        "id": "AAOgUjp-XZyf"
      },
      "source": [
        "#import data\n",
        "train_data =  pd.read_csv('train.csv')\n",
        "test_data =  pd.read_csv('test.csv')"
      ],
      "execution_count": 2,
      "outputs": []
    },
    {
      "cell_type": "code",
      "metadata": {
        "colab": {
          "base_uri": "https://localhost:8080/"
        },
        "id": "RlN6eNt1n6Ha",
        "outputId": "35f23abb-ab53-4330-805f-79038de2008f"
      },
      "source": [
        "#determine the shape of the dataset \n",
        "train_data.shape[0], train_data.shape[1]"
      ],
      "execution_count": 3,
      "outputs": [
        {
          "output_type": "execute_result",
          "data": {
            "text/plain": [
              "(7613, 5)"
            ]
          },
          "metadata": {},
          "execution_count": 3
        }
      ]
    },
    {
      "cell_type": "code",
      "metadata": {
        "colab": {
          "base_uri": "https://localhost:8080/",
          "height": 206
        },
        "id": "dL4BLSm0j7eu",
        "outputId": "007b57e6-f939-4cb8-ec01-eface78eada5"
      },
      "source": [
        "#plot first 5 rows in dataset\n",
        "train_data.head(5)"
      ],
      "execution_count": 4,
      "outputs": [
        {
          "output_type": "execute_result",
          "data": {
            "text/html": [
              "<div>\n",
              "<style scoped>\n",
              "    .dataframe tbody tr th:only-of-type {\n",
              "        vertical-align: middle;\n",
              "    }\n",
              "\n",
              "    .dataframe tbody tr th {\n",
              "        vertical-align: top;\n",
              "    }\n",
              "\n",
              "    .dataframe thead th {\n",
              "        text-align: right;\n",
              "    }\n",
              "</style>\n",
              "<table border=\"1\" class=\"dataframe\">\n",
              "  <thead>\n",
              "    <tr style=\"text-align: right;\">\n",
              "      <th></th>\n",
              "      <th>id</th>\n",
              "      <th>keyword</th>\n",
              "      <th>location</th>\n",
              "      <th>text</th>\n",
              "      <th>target</th>\n",
              "    </tr>\n",
              "  </thead>\n",
              "  <tbody>\n",
              "    <tr>\n",
              "      <th>0</th>\n",
              "      <td>1</td>\n",
              "      <td>NaN</td>\n",
              "      <td>NaN</td>\n",
              "      <td>Our Deeds are the Reason of this #earthquake M...</td>\n",
              "      <td>1</td>\n",
              "    </tr>\n",
              "    <tr>\n",
              "      <th>1</th>\n",
              "      <td>4</td>\n",
              "      <td>NaN</td>\n",
              "      <td>NaN</td>\n",
              "      <td>Forest fire near La Ronge Sask. Canada</td>\n",
              "      <td>1</td>\n",
              "    </tr>\n",
              "    <tr>\n",
              "      <th>2</th>\n",
              "      <td>5</td>\n",
              "      <td>NaN</td>\n",
              "      <td>NaN</td>\n",
              "      <td>All residents asked to 'shelter in place' are ...</td>\n",
              "      <td>1</td>\n",
              "    </tr>\n",
              "    <tr>\n",
              "      <th>3</th>\n",
              "      <td>6</td>\n",
              "      <td>NaN</td>\n",
              "      <td>NaN</td>\n",
              "      <td>13,000 people receive #wildfires evacuation or...</td>\n",
              "      <td>1</td>\n",
              "    </tr>\n",
              "    <tr>\n",
              "      <th>4</th>\n",
              "      <td>7</td>\n",
              "      <td>NaN</td>\n",
              "      <td>NaN</td>\n",
              "      <td>Just got sent this photo from Ruby #Alaska as ...</td>\n",
              "      <td>1</td>\n",
              "    </tr>\n",
              "  </tbody>\n",
              "</table>\n",
              "</div>"
            ],
            "text/plain": [
              "   id keyword  ...                                               text target\n",
              "0   1     NaN  ...  Our Deeds are the Reason of this #earthquake M...      1\n",
              "1   4     NaN  ...             Forest fire near La Ronge Sask. Canada      1\n",
              "2   5     NaN  ...  All residents asked to 'shelter in place' are ...      1\n",
              "3   6     NaN  ...  13,000 people receive #wildfires evacuation or...      1\n",
              "4   7     NaN  ...  Just got sent this photo from Ruby #Alaska as ...      1\n",
              "\n",
              "[5 rows x 5 columns]"
            ]
          },
          "metadata": {},
          "execution_count": 4
        }
      ]
    },
    {
      "cell_type": "code",
      "metadata": {
        "colab": {
          "base_uri": "https://localhost:8080/",
          "height": 206
        },
        "id": "crvR6qPIhJrj",
        "outputId": "496c2038-a8f1-4448-aaf0-44950d3353d2"
      },
      "source": [
        "#plot random 5 rows in dataset \n",
        "train_data.sample(5)"
      ],
      "execution_count": 5,
      "outputs": [
        {
          "output_type": "execute_result",
          "data": {
            "text/html": [
              "<div>\n",
              "<style scoped>\n",
              "    .dataframe tbody tr th:only-of-type {\n",
              "        vertical-align: middle;\n",
              "    }\n",
              "\n",
              "    .dataframe tbody tr th {\n",
              "        vertical-align: top;\n",
              "    }\n",
              "\n",
              "    .dataframe thead th {\n",
              "        text-align: right;\n",
              "    }\n",
              "</style>\n",
              "<table border=\"1\" class=\"dataframe\">\n",
              "  <thead>\n",
              "    <tr style=\"text-align: right;\">\n",
              "      <th></th>\n",
              "      <th>id</th>\n",
              "      <th>keyword</th>\n",
              "      <th>location</th>\n",
              "      <th>text</th>\n",
              "      <th>target</th>\n",
              "    </tr>\n",
              "  </thead>\n",
              "  <tbody>\n",
              "    <tr>\n",
              "      <th>311</th>\n",
              "      <td>454</td>\n",
              "      <td>armageddon</td>\n",
              "      <td>Wrigley Field</td>\n",
              "      <td>@KatieKatCubs you already know how this shit g...</td>\n",
              "      <td>0</td>\n",
              "    </tr>\n",
              "    <tr>\n",
              "      <th>4970</th>\n",
              "      <td>7086</td>\n",
              "      <td>meltdown</td>\n",
              "      <td>Two Up Two Down</td>\n",
              "      <td>@LeMaireLee @danharmon People Near Meltdown Co...</td>\n",
              "      <td>0</td>\n",
              "    </tr>\n",
              "    <tr>\n",
              "      <th>527</th>\n",
              "      <td>762</td>\n",
              "      <td>avalanche</td>\n",
              "      <td>Score Team Goals Buying @</td>\n",
              "      <td>1-6 TIX Calgary Flames vs COL Avalanche Presea...</td>\n",
              "      <td>0</td>\n",
              "    </tr>\n",
              "    <tr>\n",
              "      <th>6362</th>\n",
              "      <td>9094</td>\n",
              "      <td>suicide%20bomb</td>\n",
              "      <td>Roadside</td>\n",
              "      <td>If you ever think you running out of choices i...</td>\n",
              "      <td>0</td>\n",
              "    </tr>\n",
              "    <tr>\n",
              "      <th>800</th>\n",
              "      <td>1160</td>\n",
              "      <td>blight</td>\n",
              "      <td>Laventillemoorings</td>\n",
              "      <td>If you dotish to blight your car go right ahea...</td>\n",
              "      <td>0</td>\n",
              "    </tr>\n",
              "  </tbody>\n",
              "</table>\n",
              "</div>"
            ],
            "text/plain": [
              "        id  ... target\n",
              "311    454  ...      0\n",
              "4970  7086  ...      0\n",
              "527    762  ...      0\n",
              "6362  9094  ...      0\n",
              "800   1160  ...      0\n",
              "\n",
              "[5 rows x 5 columns]"
            ]
          },
          "metadata": {},
          "execution_count": 5
        }
      ]
    },
    {
      "cell_type": "code",
      "metadata": {
        "colab": {
          "base_uri": "https://localhost:8080/"
        },
        "id": "HI6NF7DakaKz",
        "outputId": "6843205a-9e96-4152-c558-48249b9661bc"
      },
      "source": [
        "#understand the counts of missing values in dataset \n",
        "num_cols = list(train_data.columns)\n",
        "null_val={}\n",
        "\n",
        "for col in num_cols:\n",
        "    null_val[col]=len(train_data[train_data[col].isnull()==True])\n",
        "    print(col,':',null_val[col])"
      ],
      "execution_count": 5,
      "outputs": [
        {
          "output_type": "stream",
          "name": "stdout",
          "text": [
            "id : 0\n",
            "keyword : 61\n",
            "location : 2533\n",
            "text : 0\n",
            "target : 0\n"
          ]
        }
      ]
    },
    {
      "cell_type": "code",
      "metadata": {
        "colab": {
          "base_uri": "https://localhost:8080/",
          "height": 295
        },
        "id": "8GDNhNKcmfPG",
        "outputId": "50e1445d-a528-4e4b-98d6-13708027cb7e"
      },
      "source": [
        "#CREDIT TO SOURCES: \n",
        "#https://stackoverflow.com/questions/28931224/adding-value-labels-on-a-matplotlib-bar-chart \n",
        "\n",
        "#explore distribution of dataset \n",
        "\n",
        "sns.countplot(x = train_data['target'], palette = 'rocket')\n",
        "ax = plt.gca()\n",
        "y_max = train_data['target'].value_counts().max() \n",
        "ax.set_ylim([0, round(y_max)])\n",
        "for p in ax.patches:\n",
        "    ax.text(p.get_x() + p.get_width()/2., 1700, '%d' % int(p.get_height()), \n",
        "            fontsize=12, color='white', ha='center', va= 'bottom')\n",
        "plt.title(\"Observations by Classification Type\")\n",
        "plt.show()"
      ],
      "execution_count": 6,
      "outputs": [
        {
          "output_type": "display_data",
          "data": {
            "image/png": "[encoded data removed]",
            "text/plain": [
              "<Figure size 432x288 with 1 Axes>"
            ]
          },
          "metadata": {
            "needs_background": "light"
          }
        }
      ]
    },
    {
      "cell_type": "code",
      "metadata": {
        "colab": {
          "base_uri": "https://localhost:8080/"
        },
        "id": "sG6KxUIuB7-O",
        "outputId": "cc1db391-93a0-4864-b3d1-7e2f4742adbd"
      },
      "source": [
        "#CREDIT TO SOURCE: https://stackoverflow.com/questions/35584085/how-to-count-duplicate-rows-in-pandas-dataframe\n",
        "# look for duplication in dataset \n",
        "\n",
        "duplct_cnt = len(train_data['text'])-len(train_data['text'].drop_duplicates())\n",
        "duplct_cnt"
      ],
      "execution_count": 12,
      "outputs": [
        {
          "output_type": "execute_result",
          "data": {
            "text/plain": [
              "110"
            ]
          },
          "metadata": {},
          "execution_count": 12
        }
      ]
    },
    {
      "cell_type": "code",
      "metadata": {
        "colab": {
          "base_uri": "https://localhost:8080/",
          "height": 476
        },
        "id": "PROdfV_uAU0R",
        "outputId": "720082e0-4220-4b48-cd0a-a79d9f77242e"
      },
      "source": [
        "#CREDIT TO SOURCES: \n",
        "#https://pandas.pydata.org/pandas-docs/stable/reference/api/pandas.DataFrame.duplicated.html \n",
        "\n",
        "#create a flag for duplicate tweets\n",
        "df = train_data\n",
        "df['duplicate_tweet'] = np.where(df['text'].duplicated(keep=False), 'yes', 'no')\n",
        "df"
      ],
      "execution_count": 13,
      "outputs": [
        {
          "output_type": "execute_result",
          "data": {
            "text/html": [
              "<div>\n",
              "<style scoped>\n",
              "    .dataframe tbody tr th:only-of-type {\n",
              "        vertical-align: middle;\n",
              "    }\n",
              "\n",
              "    .dataframe tbody tr th {\n",
              "        vertical-align: top;\n",
              "    }\n",
              "\n",
              "    .dataframe thead th {\n",
              "        text-align: right;\n",
              "    }\n",
              "</style>\n",
              "<table border=\"1\" class=\"dataframe\">\n",
              "  <thead>\n",
              "    <tr style=\"text-align: right;\">\n",
              "      <th></th>\n",
              "      <th>id</th>\n",
              "      <th>keyword</th>\n",
              "      <th>location</th>\n",
              "      <th>text</th>\n",
              "      <th>target</th>\n",
              "      <th>clean_text</th>\n",
              "      <th>duplicate_tweet</th>\n",
              "    </tr>\n",
              "  </thead>\n",
              "  <tbody>\n",
              "    <tr>\n",
              "      <th>0</th>\n",
              "      <td>1</td>\n",
              "      <td>NaN</td>\n",
              "      <td>NaN</td>\n",
              "      <td>Our Deeds are the Reason of this #earthquake M...</td>\n",
              "      <td>1</td>\n",
              "      <td>our deeds are the reason of this earthquake ma...</td>\n",
              "      <td>no</td>\n",
              "    </tr>\n",
              "    <tr>\n",
              "      <th>1</th>\n",
              "      <td>4</td>\n",
              "      <td>NaN</td>\n",
              "      <td>NaN</td>\n",
              "      <td>Forest fire near La Ronge Sask. Canada</td>\n",
              "      <td>1</td>\n",
              "      <td>forest fire near la ronge sask canada</td>\n",
              "      <td>no</td>\n",
              "    </tr>\n",
              "    <tr>\n",
              "      <th>2</th>\n",
              "      <td>5</td>\n",
              "      <td>NaN</td>\n",
              "      <td>NaN</td>\n",
              "      <td>All residents asked to 'shelter in place' are ...</td>\n",
              "      <td>1</td>\n",
              "      <td>all residents asked to shelter in place are be...</td>\n",
              "      <td>no</td>\n",
              "    </tr>\n",
              "    <tr>\n",
              "      <th>3</th>\n",
              "      <td>6</td>\n",
              "      <td>NaN</td>\n",
              "      <td>NaN</td>\n",
              "      <td>13,000 people receive #wildfires evacuation or...</td>\n",
              "      <td>1</td>\n",
              "      <td>people receive wildfires evacuation orders in...</td>\n",
              "      <td>no</td>\n",
              "    </tr>\n",
              "    <tr>\n",
              "      <th>4</th>\n",
              "      <td>7</td>\n",
              "      <td>NaN</td>\n",
              "      <td>NaN</td>\n",
              "      <td>Just got sent this photo from Ruby #Alaska as ...</td>\n",
              "      <td>1</td>\n",
              "      <td>just got sent this photo from ruby alaska as s...</td>\n",
              "      <td>no</td>\n",
              "    </tr>\n",
              "    <tr>\n",
              "      <th>...</th>\n",
              "      <td>...</td>\n",
              "      <td>...</td>\n",
              "      <td>...</td>\n",
              "      <td>...</td>\n",
              "      <td>...</td>\n",
              "      <td>...</td>\n",
              "      <td>...</td>\n",
              "    </tr>\n",
              "    <tr>\n",
              "      <th>7608</th>\n",
              "      <td>10869</td>\n",
              "      <td>NaN</td>\n",
              "      <td>NaN</td>\n",
              "      <td>Two giant cranes holding a bridge collapse int...</td>\n",
              "      <td>1</td>\n",
              "      <td>two giant cranes holding a bridge collapse int...</td>\n",
              "      <td>no</td>\n",
              "    </tr>\n",
              "    <tr>\n",
              "      <th>7609</th>\n",
              "      <td>10870</td>\n",
              "      <td>NaN</td>\n",
              "      <td>NaN</td>\n",
              "      <td>@aria_ahrary @TheTawniest The out of control w...</td>\n",
              "      <td>1</td>\n",
              "      <td>aria_ahrary thetawniest the out of control wil...</td>\n",
              "      <td>yes</td>\n",
              "    </tr>\n",
              "    <tr>\n",
              "      <th>7610</th>\n",
              "      <td>10871</td>\n",
              "      <td>NaN</td>\n",
              "      <td>NaN</td>\n",
              "      <td>M1.94 [01:04 UTC]?5km S of Volcano Hawaii. htt...</td>\n",
              "      <td>1</td>\n",
              "      <td>m  utckm s of volcano hawaii httptcozdtoydebj</td>\n",
              "      <td>yes</td>\n",
              "    </tr>\n",
              "    <tr>\n",
              "      <th>7611</th>\n",
              "      <td>10872</td>\n",
              "      <td>NaN</td>\n",
              "      <td>NaN</td>\n",
              "      <td>Police investigating after an e-bike collided ...</td>\n",
              "      <td>1</td>\n",
              "      <td>police investigating after an ebike collided w...</td>\n",
              "      <td>yes</td>\n",
              "    </tr>\n",
              "    <tr>\n",
              "      <th>7612</th>\n",
              "      <td>10873</td>\n",
              "      <td>NaN</td>\n",
              "      <td>NaN</td>\n",
              "      <td>The Latest: More Homes Razed by Northern Calif...</td>\n",
              "      <td>1</td>\n",
              "      <td>the latest more homes razed by northern califo...</td>\n",
              "      <td>no</td>\n",
              "    </tr>\n",
              "  </tbody>\n",
              "</table>\n",
              "<p>7613 rows × 7 columns</p>\n",
              "</div>"
            ],
            "text/plain": [
              "         id  ... duplicate_tweet\n",
              "0         1  ...              no\n",
              "1         4  ...              no\n",
              "2         5  ...              no\n",
              "3         6  ...              no\n",
              "4         7  ...              no\n",
              "...     ...  ...             ...\n",
              "7608  10869  ...              no\n",
              "7609  10870  ...             yes\n",
              "7610  10871  ...             yes\n",
              "7611  10872  ...             yes\n",
              "7612  10873  ...              no\n",
              "\n",
              "[7613 rows x 7 columns]"
            ]
          },
          "metadata": {},
          "execution_count": 13
        }
      ]
    },
    {
      "cell_type": "code",
      "metadata": {
        "colab": {
          "base_uri": "https://localhost:8080/",
          "height": 455
        },
        "id": "L52TuADNBtsq",
        "outputId": "a8fee24c-50cb-44a1-ffe5-2a31387a692f"
      },
      "source": [
        "#look for most common duplicate tweet\n",
        "df[df.duplicate_tweet == 'yes'].pivot_table(index='text', values='target', aggfunc='count').sort_values(by='target', ascending=False)\n"
      ],
      "execution_count": 14,
      "outputs": [
        {
          "output_type": "execute_result",
          "data": {
            "text/html": [
              "<div>\n",
              "<style scoped>\n",
              "    .dataframe tbody tr th:only-of-type {\n",
              "        vertical-align: middle;\n",
              "    }\n",
              "\n",
              "    .dataframe tbody tr th {\n",
              "        vertical-align: top;\n",
              "    }\n",
              "\n",
              "    .dataframe thead th {\n",
              "        text-align: right;\n",
              "    }\n",
              "</style>\n",
              "<table border=\"1\" class=\"dataframe\">\n",
              "  <thead>\n",
              "    <tr style=\"text-align: right;\">\n",
              "      <th></th>\n",
              "      <th>target</th>\n",
              "    </tr>\n",
              "    <tr>\n",
              "      <th>text</th>\n",
              "      <th></th>\n",
              "    </tr>\n",
              "  </thead>\n",
              "  <tbody>\n",
              "    <tr>\n",
              "      <th>11-Year-Old Boy Charged With Manslaughter of Toddler: Report: An 11-year-old boy has been charged with manslaughter over the fatal sh...</th>\n",
              "      <td>10</td>\n",
              "    </tr>\n",
              "    <tr>\n",
              "      <th>He came to a land which was engulfed in tribal war and turned it into a land of peace i.e. Madinah. #ProphetMuhammad #islam</th>\n",
              "      <td>6</td>\n",
              "    </tr>\n",
              "    <tr>\n",
              "      <th>The Prophet (peace be upon him) said 'Save yourself from Hellfire even if it is by giving half a date in charity.'</th>\n",
              "      <td>6</td>\n",
              "    </tr>\n",
              "    <tr>\n",
              "      <th>#Bestnaijamade: 16yr old PKK suicide bomber who detonated bomb in ... http://t.co/KSAwlYuX02 bestnaijamade bestnaijamade bestnaijamade beÛ_</th>\n",
              "      <td>6</td>\n",
              "    </tr>\n",
              "    <tr>\n",
              "      <th>Madhya Pradesh Train Derailment: Village Youth Saved Many Lives</th>\n",
              "      <td>5</td>\n",
              "    </tr>\n",
              "    <tr>\n",
              "      <th>...</th>\n",
              "      <td>...</td>\n",
              "    </tr>\n",
              "    <tr>\n",
              "      <th>General News Û¢åÊ'Demolition of houses on waterways begins at Achimota Mile 7 ' via @233liveOnline. Full story at http://t.co/iO7kUUg1uq</th>\n",
              "      <td>2</td>\n",
              "    </tr>\n",
              "    <tr>\n",
              "      <th>Hellfire! We donÛªt even want to think about it or mention it so letÛªs not do anything that leads to it #islam!</th>\n",
              "      <td>2</td>\n",
              "    </tr>\n",
              "    <tr>\n",
              "      <th>Hellfire! We donÛªt even want to think about it or mention it so letÛªs not do anything that leads to it!</th>\n",
              "      <td>2</td>\n",
              "    </tr>\n",
              "    <tr>\n",
              "      <th>I Pledge Allegiance To The P.O.P.E. And The Burning Buildings of Epic City. ??????</th>\n",
              "      <td>2</td>\n",
              "    </tr>\n",
              "    <tr>\n",
              "      <th>wowo--=== 12000 Nigerian refugees repatriated from Cameroon</th>\n",
              "      <td>2</td>\n",
              "    </tr>\n",
              "  </tbody>\n",
              "</table>\n",
              "<p>69 rows × 1 columns</p>\n",
              "</div>"
            ],
            "text/plain": [
              "                                                    target\n",
              "text                                                      \n",
              "11-Year-Old Boy Charged With Manslaughter of To...      10\n",
              "He came to a land which was engulfed in tribal ...       6\n",
              "The Prophet (peace be upon him) said 'Save your...       6\n",
              "#Bestnaijamade: 16yr old PKK suicide bomber who...       6\n",
              "Madhya Pradesh Train Derailment: Village Youth ...       5\n",
              "...                                                    ...\n",
              "General News Û¢åÊ'Demolition of houses on wate...       2\n",
              "Hellfire! We donÛªt even want to think about i...       2\n",
              "Hellfire! We donÛªt even want to think about i...       2\n",
              "I Pledge Allegiance To The P.O.P.E. And The Bur...       2\n",
              "wowo--=== 12000 Nigerian refugees repatriated f...       2\n",
              "\n",
              "[69 rows x 1 columns]"
            ]
          },
          "metadata": {},
          "execution_count": 14
        }
      ]
    },
    {
      "cell_type": "code",
      "metadata": {
        "colab": {
          "base_uri": "https://localhost:8080/",
          "height": 424
        },
        "id": "LEbf6iiiEyCi",
        "outputId": "4b01d15d-f7c6-4588-bfe3-078aee0edd8e"
      },
      "source": [
        "#check if duplicates are classified the same way\n",
        "\n",
        "dups = df[df.duplicate_tweet == 'yes']\n",
        "dups2 = dups[['id', 'text', 'target']].sort_values(by='text', ascending=False)\n",
        "dups2"
      ],
      "execution_count": 15,
      "outputs": [
        {
          "output_type": "execute_result",
          "data": {
            "text/html": [
              "<div>\n",
              "<style scoped>\n",
              "    .dataframe tbody tr th:only-of-type {\n",
              "        vertical-align: middle;\n",
              "    }\n",
              "\n",
              "    .dataframe tbody tr th {\n",
              "        vertical-align: top;\n",
              "    }\n",
              "\n",
              "    .dataframe thead th {\n",
              "        text-align: right;\n",
              "    }\n",
              "</style>\n",
              "<table border=\"1\" class=\"dataframe\">\n",
              "  <thead>\n",
              "    <tr style=\"text-align: right;\">\n",
              "      <th></th>\n",
              "      <th>id</th>\n",
              "      <th>text</th>\n",
              "      <th>target</th>\n",
              "    </tr>\n",
              "  </thead>\n",
              "  <tbody>\n",
              "    <tr>\n",
              "      <th>5620</th>\n",
              "      <td>8018</td>\n",
              "      <td>wowo--=== 12000 Nigerian refugees repatriated ...</td>\n",
              "      <td>1</td>\n",
              "    </tr>\n",
              "    <tr>\n",
              "      <th>5641</th>\n",
              "      <td>8044</td>\n",
              "      <td>wowo--=== 12000 Nigerian refugees repatriated ...</td>\n",
              "      <td>0</td>\n",
              "    </tr>\n",
              "    <tr>\n",
              "      <th>6091</th>\n",
              "      <td>8698</td>\n",
              "      <td>that horrible sinking feeling when youÛªve be...</td>\n",
              "      <td>1</td>\n",
              "    </tr>\n",
              "    <tr>\n",
              "      <th>6123</th>\n",
              "      <td>8739</td>\n",
              "      <td>that horrible sinking feeling when youÛªve be...</td>\n",
              "      <td>1</td>\n",
              "    </tr>\n",
              "    <tr>\n",
              "      <th>6103</th>\n",
              "      <td>8714</td>\n",
              "      <td>that horrible sinking feeling when youÛªve be...</td>\n",
              "      <td>0</td>\n",
              "    </tr>\n",
              "    <tr>\n",
              "      <th>...</th>\n",
              "      <td>...</td>\n",
              "      <td>...</td>\n",
              "      <td>...</td>\n",
              "    </tr>\n",
              "    <tr>\n",
              "      <th>6377</th>\n",
              "      <td>9113</td>\n",
              "      <td>#Bestnaijamade: 16yr old PKK suicide bomber wh...</td>\n",
              "      <td>1</td>\n",
              "    </tr>\n",
              "    <tr>\n",
              "      <th>6373</th>\n",
              "      <td>9107</td>\n",
              "      <td>#Bestnaijamade: 16yr old PKK suicide bomber wh...</td>\n",
              "      <td>1</td>\n",
              "    </tr>\n",
              "    <tr>\n",
              "      <th>4312</th>\n",
              "      <td>6123</td>\n",
              "      <td>#Allah describes piling up #wealth thinking it...</td>\n",
              "      <td>1</td>\n",
              "    </tr>\n",
              "    <tr>\n",
              "      <th>4299</th>\n",
              "      <td>6105</td>\n",
              "      <td>#Allah describes piling up #wealth thinking it...</td>\n",
              "      <td>0</td>\n",
              "    </tr>\n",
              "    <tr>\n",
              "      <th>4290</th>\n",
              "      <td>6094</td>\n",
              "      <td>#Allah describes piling up #wealth thinking it...</td>\n",
              "      <td>0</td>\n",
              "    </tr>\n",
              "  </tbody>\n",
              "</table>\n",
              "<p>179 rows × 3 columns</p>\n",
              "</div>"
            ],
            "text/plain": [
              "        id                                               text  target\n",
              "5620  8018  wowo--=== 12000 Nigerian refugees repatriated ...       1\n",
              "5641  8044  wowo--=== 12000 Nigerian refugees repatriated ...       0\n",
              "6091  8698  that horrible sinking feeling when youÛªve be...       1\n",
              "6123  8739  that horrible sinking feeling when youÛªve be...       1\n",
              "6103  8714  that horrible sinking feeling when youÛªve be...       0\n",
              "...    ...                                                ...     ...\n",
              "6377  9113  #Bestnaijamade: 16yr old PKK suicide bomber wh...       1\n",
              "6373  9107  #Bestnaijamade: 16yr old PKK suicide bomber wh...       1\n",
              "4312  6123  #Allah describes piling up #wealth thinking it...       1\n",
              "4299  6105  #Allah describes piling up #wealth thinking it...       0\n",
              "4290  6094  #Allah describes piling up #wealth thinking it...       0\n",
              "\n",
              "[179 rows x 3 columns]"
            ]
          },
          "metadata": {},
          "execution_count": 15
        }
      ]
    },
    {
      "cell_type": "code",
      "metadata": {
        "id": "fn_1UBKECAcu"
      },
      "source": [
        "#CREDIT TO SOURCES: \n",
        "#https://towardsdatascience.com/regex-essential-for-nlp-ee0336ef988d\n",
        "\n",
        "#data cleaning \n",
        "def drop_dup(df): \n",
        "    #remove duplicates \n",
        "    df.drop_duplicates(subset=['text'], keep='first')\n",
        "    return df\n",
        "\n",
        "def text_clean(text):\n",
        "  #remove line breaks\n",
        "  text = re.sub(r\"\\n\",\"\",text)\n",
        "\n",
        "  #convert to lowercase \n",
        "  text = text.lower()\n",
        "\n",
        "  #remove digits and currencies \n",
        "  text = re.sub(r\"\\d+\",\"\",text) \n",
        "  text = re.sub(r'[\\$\\d+\\d+\\$]', \"\", text)      \n",
        "\n",
        "  #remove dates \n",
        "  text = re.sub(r'\\d+[\\.\\/-]\\d+[\\.\\/-]\\d+', '', text)\n",
        "  text = re.sub(r'\\d+[\\.\\/-]\\d+[\\.\\/-]\\d+', '', text)\n",
        "  text = re.sub(r'\\d+[\\.\\/-]\\d+[\\.\\/-]\\d+', '', text)\n",
        "\n",
        "  #remove non-ascii\n",
        "  text = re.sub(r'[^\\x00-\\x7f]',r' ',text) \n",
        "\n",
        "  #remove punctuation\n",
        "  text = re.sub(r'[^\\w\\s]','',text) \n",
        "\n",
        "  #remove hyperlinks\n",
        "  text = re.sub(r'https?:\\/\\/.*[\\r\\n]*', '', text)\n",
        "\n",
        "  #replace extra whitespaces with a single one \n",
        "  #text = re.sub(re.sub(' +', ' ', text)\n",
        "  return text\n",
        "\n",
        "\n",
        "train_data['clean_text'] = train_data['text'].apply(lambda x : text_clean(x))"
      ],
      "execution_count": 16,
      "outputs": []
    },
    {
      "cell_type": "code",
      "metadata": {
        "colab": {
          "base_uri": "https://localhost:8080/",
          "height": 394
        },
        "id": "Rll-jEeGwANH",
        "outputId": "91dad540-39de-4702-d49a-d2ad6cad66bd"
      },
      "source": [
        "#location cleaning and exploration \n",
        "loc_vals = df[['location', 'target']].dropna(subset=['location']).sort_values(by='location', ascending=False)\n",
        "loc_vals\n",
        "loc_vals[['location','target']].groupby('location').count().sort_values(by='target', ascending=False).head(10)"
      ],
      "execution_count": 17,
      "outputs": [
        {
          "output_type": "execute_result",
          "data": {
            "text/html": [
              "<div>\n",
              "<style scoped>\n",
              "    .dataframe tbody tr th:only-of-type {\n",
              "        vertical-align: middle;\n",
              "    }\n",
              "\n",
              "    .dataframe tbody tr th {\n",
              "        vertical-align: top;\n",
              "    }\n",
              "\n",
              "    .dataframe thead th {\n",
              "        text-align: right;\n",
              "    }\n",
              "</style>\n",
              "<table border=\"1\" class=\"dataframe\">\n",
              "  <thead>\n",
              "    <tr style=\"text-align: right;\">\n",
              "      <th></th>\n",
              "      <th>target</th>\n",
              "    </tr>\n",
              "    <tr>\n",
              "      <th>location</th>\n",
              "      <th></th>\n",
              "    </tr>\n",
              "  </thead>\n",
              "  <tbody>\n",
              "    <tr>\n",
              "      <th>USA</th>\n",
              "      <td>104</td>\n",
              "    </tr>\n",
              "    <tr>\n",
              "      <th>New York</th>\n",
              "      <td>71</td>\n",
              "    </tr>\n",
              "    <tr>\n",
              "      <th>United States</th>\n",
              "      <td>50</td>\n",
              "    </tr>\n",
              "    <tr>\n",
              "      <th>London</th>\n",
              "      <td>45</td>\n",
              "    </tr>\n",
              "    <tr>\n",
              "      <th>Canada</th>\n",
              "      <td>29</td>\n",
              "    </tr>\n",
              "    <tr>\n",
              "      <th>Nigeria</th>\n",
              "      <td>28</td>\n",
              "    </tr>\n",
              "    <tr>\n",
              "      <th>UK</th>\n",
              "      <td>27</td>\n",
              "    </tr>\n",
              "    <tr>\n",
              "      <th>Los Angeles, CA</th>\n",
              "      <td>26</td>\n",
              "    </tr>\n",
              "    <tr>\n",
              "      <th>India</th>\n",
              "      <td>24</td>\n",
              "    </tr>\n",
              "    <tr>\n",
              "      <th>Mumbai</th>\n",
              "      <td>22</td>\n",
              "    </tr>\n",
              "  </tbody>\n",
              "</table>\n",
              "</div>"
            ],
            "text/plain": [
              "                 target\n",
              "location               \n",
              "USA                 104\n",
              "New York             71\n",
              "United States        50\n",
              "London               45\n",
              "Canada               29\n",
              "Nigeria              28\n",
              "UK                   27\n",
              "Los Angeles, CA      26\n",
              "India                24\n",
              "Mumbai               22"
            ]
          },
          "metadata": {},
          "execution_count": 17
        }
      ]
    },
    {
      "cell_type": "code",
      "metadata": {
        "colab": {
          "base_uri": "https://localhost:8080/",
          "height": 424
        },
        "id": "tAtdk7M-Of3U",
        "outputId": "9afd3f21-a05a-43cb-ea2a-74064c707483"
      },
      "source": [
        "#https://medium.com/swlh/extracting-location-data-from-twitter-54c837144038\n",
        "#https://colab.research.google.com/notebooks/snippets/importing_libraries.ipynb\n",
        "#https://stackoverflow.com/questions/33098040/how-to-use-word-tokenize-in-data-frame\n",
        "#https://stackoverflow.com/questions/34962104/how-can-i-use-the-apply-function-for-a-single-column\n",
        "\n",
        "#import libraries \n",
        "import geonamescache\n",
        "from geonamescache.mappers import country\n",
        "\n",
        "#break out location identifiers into separate lists\n",
        "\n",
        "#US-specific identifiers\n",
        "city_state_mapping =  pd.read_csv('city_to_state.csv')\n",
        "US_map = dict(zip(city_state_mapping.city, city_state_mapping.state))\n",
        "US_cities = set(city_state_mapping.city)\n",
        "US_states = set(city_state_mapping.state)\n",
        "\n",
        "#import mapping function\n",
        "mapper = country(from_key='iso3', to_key='name')\n",
        "mapper2 = country(from_key='iso', to_key='name')\n",
        "\n",
        "#country-specific identifiers \n",
        "gc = geonamescache.GeonamesCache()  \n",
        "country_names = gc.get_countries_by_names()\n",
        "countries = list(country_names.keys())\n",
        "countries = [c.lower() for c in countries]\n",
        "iso3 = [val[\"iso3\"].lower() for key, val in country_names.items() if \"iso3\" in val]\n",
        "#iso = [val[\"iso\"].lower() for key, val in country_names.items() if \"iso\" in val] risks too many incorrect categorizations\n",
        "\n",
        "#define dataframe; drop null values \n",
        "loc_list = df[['location', 'target']].dropna(subset=['location'])\n",
        "loc_list['location'] = loc_list['location'].apply(lambda x: text_clean(x))\n",
        "\n",
        "#tokenize the location from each user-generated geo-location (word_tokenize) \n",
        "loc_list = loc_list.location.apply(nltk.word_tokenize)\n",
        "\n",
        "#initialize empty list \n",
        "country = []\n",
        "\n",
        "#categorize by country based on list matches\n",
        "for location in loc_list:\n",
        "  l = set(location)\n",
        "\n",
        "  if l.intersection(countries):\n",
        "    ctry = list(l.intersection(countries))\n",
        "    country.append(ctry[0])\n",
        "    continue\n",
        "\n",
        "  if l.intersection(US_states):\n",
        "    country.append('united states')\n",
        "    continue\n",
        "\n",
        "  if l.intersection(US_cities):\n",
        "    country.append('united states')\n",
        "    continue\n",
        "\n",
        "  if l.intersection(iso3):\n",
        "    ctry = list(l.intersection(iso3))\n",
        "    val = mapper(ctry[0].upper())\n",
        "    country.append(val.lower())\n",
        "    continue\n",
        "\n",
        "  # if l.intersection(iso):\n",
        "  #   ctry = list(l.intersection(iso))\n",
        "  #   val = mapper2(ctry[0].upper())\n",
        "  #   country.append(val.lower())\n",
        "  #   continue\n",
        "\n",
        "  else:\n",
        "    country.append('unknown')\n",
        "\n",
        "ldf = loc_list.to_frame()\n",
        "ldf['country'] = country\n",
        "ldf['target'] = df['target']\n",
        "ldf\n",
        "#print(ldf.to_string())\n"
      ],
      "execution_count": 18,
      "outputs": [
        {
          "output_type": "execute_result",
          "data": {
            "text/html": [
              "<div>\n",
              "<style scoped>\n",
              "    .dataframe tbody tr th:only-of-type {\n",
              "        vertical-align: middle;\n",
              "    }\n",
              "\n",
              "    .dataframe tbody tr th {\n",
              "        vertical-align: top;\n",
              "    }\n",
              "\n",
              "    .dataframe thead th {\n",
              "        text-align: right;\n",
              "    }\n",
              "</style>\n",
              "<table border=\"1\" class=\"dataframe\">\n",
              "  <thead>\n",
              "    <tr style=\"text-align: right;\">\n",
              "      <th></th>\n",
              "      <th>location</th>\n",
              "      <th>country</th>\n",
              "      <th>target</th>\n",
              "    </tr>\n",
              "  </thead>\n",
              "  <tbody>\n",
              "    <tr>\n",
              "      <th>31</th>\n",
              "      <td>[birmingham]</td>\n",
              "      <td>united states</td>\n",
              "      <td>1</td>\n",
              "    </tr>\n",
              "    <tr>\n",
              "      <th>32</th>\n",
              "      <td>[est, september, bristol]</td>\n",
              "      <td>united states</td>\n",
              "      <td>0</td>\n",
              "    </tr>\n",
              "    <tr>\n",
              "      <th>33</th>\n",
              "      <td>[africa]</td>\n",
              "      <td>unknown</td>\n",
              "      <td>1</td>\n",
              "    </tr>\n",
              "    <tr>\n",
              "      <th>34</th>\n",
              "      <td>[philadelphia, pa]</td>\n",
              "      <td>united states</td>\n",
              "      <td>0</td>\n",
              "    </tr>\n",
              "    <tr>\n",
              "      <th>35</th>\n",
              "      <td>[london, uk]</td>\n",
              "      <td>unknown</td>\n",
              "      <td>0</td>\n",
              "    </tr>\n",
              "    <tr>\n",
              "      <th>...</th>\n",
              "      <td>...</td>\n",
              "      <td>...</td>\n",
              "      <td>...</td>\n",
              "    </tr>\n",
              "    <tr>\n",
              "      <th>7575</th>\n",
              "      <td>[tn]</td>\n",
              "      <td>unknown</td>\n",
              "      <td>0</td>\n",
              "    </tr>\n",
              "    <tr>\n",
              "      <th>7577</th>\n",
              "      <td>[newcastleupontyne, uk]</td>\n",
              "      <td>unknown</td>\n",
              "      <td>0</td>\n",
              "    </tr>\n",
              "    <tr>\n",
              "      <th>7579</th>\n",
              "      <td>[vancouver, canada]</td>\n",
              "      <td>canada</td>\n",
              "      <td>0</td>\n",
              "    </tr>\n",
              "    <tr>\n",
              "      <th>7580</th>\n",
              "      <td>[london]</td>\n",
              "      <td>unknown</td>\n",
              "      <td>0</td>\n",
              "    </tr>\n",
              "    <tr>\n",
              "      <th>7581</th>\n",
              "      <td>[lincoln]</td>\n",
              "      <td>united states</td>\n",
              "      <td>0</td>\n",
              "    </tr>\n",
              "  </tbody>\n",
              "</table>\n",
              "<p>5080 rows × 3 columns</p>\n",
              "</div>"
            ],
            "text/plain": [
              "                       location        country  target\n",
              "31                 [birmingham]  united states       1\n",
              "32    [est, september, bristol]  united states       0\n",
              "33                     [africa]        unknown       1\n",
              "34           [philadelphia, pa]  united states       0\n",
              "35                 [london, uk]        unknown       0\n",
              "...                         ...            ...     ...\n",
              "7575                       [tn]        unknown       0\n",
              "7577    [newcastleupontyne, uk]        unknown       0\n",
              "7579        [vancouver, canada]         canada       0\n",
              "7580                   [london]        unknown       0\n",
              "7581                  [lincoln]  united states       0\n",
              "\n",
              "[5080 rows x 3 columns]"
            ]
          },
          "metadata": {},
          "execution_count": 18
        }
      ]
    },
    {
      "cell_type": "code",
      "metadata": {
        "colab": {
          "base_uri": "https://localhost:8080/",
          "height": 638
        },
        "id": "fQ0YY2WKK7_I",
        "outputId": "9af41105-d784-4fc4-8ceb-115515600269"
      },
      "source": [
        "#visualize data \n",
        "\n",
        "top_10_ctry = ldf[['country', 'location']].groupby('country').count().sort_values(by='location', ascending=False).head(10)\n",
        "ax = top_10_ctry.plot(kind='barh', figsize=(8, 10), color='c', zorder=2, width=0.85, legend=None)\n",
        "plt.title('Tweets by Country')\n",
        "plt.xlabel('Count of Tweets')"
      ],
      "execution_count": 19,
      "outputs": [
        {
          "output_type": "execute_result",
          "data": {
            "text/plain": [
              "Text(0.5, 0, 'Count of Tweets')"
            ]
          },
          "metadata": {},
          "execution_count": 19
        },
        {
          "output_type": "display_data",
          "data": {
            "image/png": "[encoded data removed]",
            "text/plain": [
              "<Figure size 576x720 with 1 Axes>"
            ]
          },
          "metadata": {
            "needs_background": "light"
          }
        }
      ]
    },
    {
      "cell_type": "code",
      "metadata": {
        "colab": {
          "base_uri": "https://localhost:8080/",
          "height": 295
        },
        "id": "q6AZ78BpQ-Gh",
        "outputId": "b140a2f9-a3d0-4bf7-c30b-86e12d2d8564"
      },
      "source": [
        "#segment and plot by tweet type\n",
        "\n",
        "disaster_tweets = ldf.loc[df['target'] == 1]\n",
        "dt = disaster_tweets[['country', 'location']].groupby('country').count().sort_values(by='location', ascending=False).head(10)\n",
        "\n",
        "non_disaster_tweets = ldf.loc[df['target'] == 0]\n",
        "ndt = non_disaster_tweets[['country', 'location']].groupby('country').count().sort_values(by='location', ascending=False).head(10)\n",
        "\n",
        "fig, (ax1, ax2) = plt.subplots(1, 2, figsize=(12,4))\n",
        "fig.subplots_adjust(wspace=.5)\n",
        "#fig.suptitle('Tweets by Country')\n",
        "dt.plot.barh(ax=ax1, color='c', legend=None)\n",
        "ndt.plot.barh(ax=ax2, color='c', legend=None)\n",
        "\n",
        "ax1.set_title('Top 10 Countries (Disaster Tweets Only)')\n",
        "ax2.set_title('Top 10 Countries (Non-disaster Tweets Only)')\n",
        "ax1.xaxis.set_label_text('Count of Tweets')\n",
        "ax2.xaxis.set_label_text('Count of Tweets')\n",
        "plt.show()\n"
      ],
      "execution_count": 20,
      "outputs": [
        {
          "output_type": "display_data",
          "data": {
            "image/png": "[encoded data removed]",
            "text/plain": [
              "<Figure size 864x288 with 2 Axes>"
            ]
          },
          "metadata": {
            "needs_background": "light"
          }
        }
      ]
    },
    {
      "cell_type": "markdown",
      "metadata": {
        "id": "VskJVf14kDSM"
      },
      "source": [
        "**Initial Observations:**\n",
        "\n",
        "*   Dataset contains 7613 observations (i.e. rows) and 5 features (i.e. columns) \n",
        "*   Dataset contains missing values and spaces, indicated by NaN and %20 values  \n",
        "*   There are 61 missing values under the keyword column \n",
        "*   There are 2533 missing values in the location column \n",
        "*   The training set shows an imbalance between classification types (i.e. tweet is/is not about a disaster) \n",
        "*   There are 110 duplicate tweets in the training set\n",
        "*   Duplicate tweets are not always classified in the same way\n",
        "*   Location data is not in a standard format\n",
        "*   After attempting to clean the location data, the majority of tweets cannot be categorized by their country accurately. Most tweets irrespective of their classification stem from the United States, which likely a function of where Twitter's active user base lies vs. where the most disasters occur. \n",
        "\n",
        "\n",
        "\n",
        "\n",
        "\n",
        "\n",
        "\n",
        "\n",
        "\n",
        "\n",
        "\n",
        "\n",
        "\n"
      ]
    },
    {
      "cell_type": "code",
      "metadata": {
        "colab": {
          "base_uri": "https://localhost:8080/",
          "height": 305
        },
        "id": "zokQGgapvd_H",
        "outputId": "7996c4a6-a721-4a98-f8ad-41c61aa9d19e"
      },
      "source": [
        "#CREDIT TO SOURCES#\n",
        "#https://www.geeksforgeeks.org/removing-stop-words-nltk-python/\n",
        "#https://www.earthdatascience.org/courses/use-data-open-source-python/intro-to-apis/calculate-tweet-word-frequencies-in-python/ \n",
        "\n",
        "# determine the most common words\n",
        "\n",
        "#import \n",
        "import nltk\n",
        "nltk.download('stopwords')\n",
        "nltk.download('punkt')\n",
        "\n",
        "#import stop words\n",
        "stop_words = set(stopwords.words('english'))\n",
        "print(stop_words)\n",
        "\n",
        "# tokenize the words from each tweet \n",
        "word_list = []\n",
        "tweet_list = [word_tokenize(text_clean(tweet)) for tweet in train_d]\n",
        "\n",
        "for tweet in tweet_list:\n",
        "  cleaned_tweet = []\n",
        "  for word in tweet: \n",
        "    word = text_clean(word)\n",
        "    if word not in stop_words and word != '_':\n",
        "      cleaned_tweet.append(word)\n",
        "  word_list.append(cleaned_tweet)\n",
        "\n",
        "#flatten list of words \n",
        "flat_list = list(itertools.chain(*word_list))\n",
        "\n",
        "# count frequency of each word\n",
        "word_freq = collections.Counter(flat_list)\n",
        "\n",
        "# get top 20 words \n",
        "word_freq.most_common(21)\n"
      ],
      "execution_count": 21,
      "outputs": [
        {
          "output_type": "stream",
          "name": "stdout",
          "text": [
            "[nltk_data] Downloading package stopwords to /root/nltk_data...\n",
            "[nltk_data]   Package stopwords is already up-to-date!\n",
            "[nltk_data] Downloading package punkt to /root/nltk_data...\n",
            "[nltk_data]   Package punkt is already up-to-date!\n"
          ]
        },
        {
          "output_type": "error",
          "ename": "NameError",
          "evalue": "ignored",
          "traceback": [
            "\u001b[0;31m---------------------------------------------------------------------------\u001b[0m",
            "\u001b[0;31mNameError\u001b[0m                                 Traceback (most recent call last)",
            "\u001b[0;32m<ipython-input-21-9496d58df763>\u001b[0m in \u001b[0;36m<module>\u001b[0;34m()\u001b[0m\n\u001b[1;32m     11\u001b[0m \u001b[0;34m\u001b[0m\u001b[0m\n\u001b[1;32m     12\u001b[0m \u001b[0;31m#import stop words\u001b[0m\u001b[0;34m\u001b[0m\u001b[0;34m\u001b[0m\u001b[0;34m\u001b[0m\u001b[0m\n\u001b[0;32m---> 13\u001b[0;31m \u001b[0mstop_words\u001b[0m \u001b[0;34m=\u001b[0m \u001b[0mset\u001b[0m\u001b[0;34m(\u001b[0m\u001b[0mstopwords\u001b[0m\u001b[0;34m.\u001b[0m\u001b[0mwords\u001b[0m\u001b[0;34m(\u001b[0m\u001b[0;34m'english'\u001b[0m\u001b[0;34m)\u001b[0m\u001b[0;34m)\u001b[0m\u001b[0;34m\u001b[0m\u001b[0;34m\u001b[0m\u001b[0m\n\u001b[0m\u001b[1;32m     14\u001b[0m \u001b[0mprint\u001b[0m\u001b[0;34m(\u001b[0m\u001b[0mstop_words\u001b[0m\u001b[0;34m)\u001b[0m\u001b[0;34m\u001b[0m\u001b[0;34m\u001b[0m\u001b[0m\n\u001b[1;32m     15\u001b[0m \u001b[0;34m\u001b[0m\u001b[0m\n",
            "\u001b[0;31mNameError\u001b[0m: name 'stopwords' is not defined"
          ]
        }
      ]
    },
    {
      "cell_type": "code",
      "metadata": {
        "id": "nc6NQykHW0Z0"
      },
      "source": [
        "#set up data for models \n",
        "\n",
        "filter_td = drop_dup(train_data)\n",
        "\n",
        "num_test = int(train_data.shape[0] * 0.8)\n",
        "\n",
        "dev_data, dev_labels = filter_td.text[num_test:], filter_td.target[num_test:]\n",
        "train_d, train_l = filter_td.text[:num_test], filter_td.target[:num_test]\n"
      ],
      "execution_count": 22,
      "outputs": []
    },
    {
      "cell_type": "code",
      "metadata": {
        "id": "yvGcbuR6dDSm",
        "outputId": "4d5604b9-3a73-4a0d-b1f3-d7405cdd9b14",
        "colab": {
          "base_uri": "https://localhost:8080/"
        }
      },
      "source": [
        "#CREDIT TO SOURCES: \n",
        "#https://stackoverflow.com/questions/21844546/forming-bigrams-of-words-in-list-of-sentences-with-python\n",
        "#https://stackoverflow.com/questions/43473736/most-common-2-grams-using-python\n",
        "\n",
        "tweets = df[['text', 'target']]\n",
        "dt = tweets.loc[df['target'] == 1]\n",
        "print(dt)\n",
        "\n",
        "#Do top words change if we examine bigrams?\n",
        "from collections import Counter\n",
        "from nltk.util import ngrams\n",
        "# nltk.download('stopwords')\n",
        "\n",
        "#import stop words\n",
        "stop_words = set(stopwords.words('english'))\n",
        "\n",
        "#clean tweets\n",
        "clean_tweets = [word_tokenize(text_clean(tweet)) for tweet in train_d]\n",
        "\n",
        "#tokenize tweets and exclude stop words\n",
        "token_list = []\n",
        "\n",
        "for tweet in clean_tweets:\n",
        "  tokens = []\n",
        "  for token in tweet:\n",
        "    if token not in stop_words:\n",
        "      tokens.append(token)\n",
        "  token_list.append(tokens)\n",
        "\n",
        "#group tokens as bigrams\n",
        "bigram_list = []\n",
        "\n",
        "for token in token_list: \n",
        "  bigram = list(ngrams(token, 2))\n",
        "  bigram_list.append(bigram)\n",
        "\n",
        "#count bigrams\n",
        "\n",
        "cnt = collections.Counter()\n",
        "\n",
        "for tweet in bigram_list:\n",
        "  for bigram in tweet:\n",
        "    cnt.update(nltk.bigrams(bigram))\n",
        "\n",
        "print(cnt.most_common(10))\n",
        "\n",
        "\n"
      ],
      "execution_count": 106,
      "outputs": [
        {
          "output_type": "stream",
          "name": "stdout",
          "text": [
            "                                                   text  target\n",
            "0     Our Deeds are the Reason of this #earthquake M...       1\n",
            "1                Forest fire near La Ronge Sask. Canada       1\n",
            "2     All residents asked to 'shelter in place' are ...       1\n",
            "3     13,000 people receive #wildfires evacuation or...       1\n",
            "4     Just got sent this photo from Ruby #Alaska as ...       1\n",
            "...                                                 ...     ...\n",
            "7608  Two giant cranes holding a bridge collapse int...       1\n",
            "7609  @aria_ahrary @TheTawniest The out of control w...       1\n",
            "7610  M1.94 [01:04 UTC]?5km S of Volcano Hawaii. htt...       1\n",
            "7611  Police investigating after an e-bike collided ...       1\n",
            "7612  The Latest: More Homes Razed by Northern Calif...       1\n",
            "\n",
            "[3271 rows x 2 columns]\n",
            "[(('burning', 'buildings'), 56), (('cross', 'body'), 39), (('gon', 'na'), 38), (('oil', 'spill'), 38), (('northern', 'california'), 37), (('liked', 'youtube'), 34), (('youtube', 'video'), 34), (('mass', 'murder'), 31), (('natural', 'disaster'), 30), (('prebreak', 'best'), 30)]\n"
          ]
        }
      ]
    },
    {
      "cell_type": "code",
      "metadata": {
        "id": "ROKp3FApOxuE"
      },
      "source": [
        "#transform data\n",
        "vectorizer = CountVectorizer(preprocessor=text_clean, stop_words='english')\n",
        "vtrain = vectorizer.fit_transform(train_d)\n",
        "vdev = vectorizer.transform(dev_data)\n"
      ],
      "execution_count": 35,
      "outputs": []
    },
    {
      "cell_type": "code",
      "metadata": {
        "colab": {
          "base_uri": "https://localhost:8080/"
        },
        "id": "J688pQSgR0eU",
        "outputId": "f4e9db2e-e6df-45b4-b53a-3c7a14e23b31"
      },
      "source": [
        "#produce logistic regression model\n",
        "model_lr = LogisticRegression(C = 0.5, solver=\"liblinear\", multi_class=\"auto\")\n",
        "start_time = time.time() \n",
        "model_lr.fit(vtrain, train_l)\n",
        "train_predicted_labels_lr = model_lr.predict(vdev) \n",
        "stop_time = time.time()\n",
        "total_time = stop_time - start_time\n",
        "score_lr = metrics.f1_score(dev_labels, train_predicted_labels_lr, average='weighted')\n",
        "\n",
        "score_lr, total_time"
      ],
      "execution_count": 38,
      "outputs": [
        {
          "output_type": "execute_result",
          "data": {
            "text/plain": [
              "(0.7615959038539327, 0.05192303657531738)"
            ]
          },
          "metadata": {},
          "execution_count": 38
        }
      ]
    },
    {
      "cell_type": "code",
      "metadata": {
        "colab": {
          "base_uri": "https://localhost:8080/"
        },
        "id": "YKUfmwH2Cw4R",
        "outputId": "c69f2977-b358-4aa8-c98d-ce05c4187edb"
      },
      "source": [
        "#CREDIT TO SOURCES: \n",
        "#https://stackoverflow.com/questions/30667525/importerror-no-module-named-sklearn-cross-validation\n",
        "#https://www.ritchieng.com/machine-learning-multinomial-naive-bayes-vectorization/\n",
        "#https://towardsdatascience.com/another-twitter-sentiment-analysis-with-python-part-4-count-vectorizer-b3f4944e51b5 #look at this tmr\n",
        "\n",
        "from sklearn.model_selection import KFold\n",
        "from sklearn.model_selection import train_test_split\n",
        "\n",
        "X_train, X_test, y_train, y_test = train_test_split(filter_td.text, filter_td.target , random_state=1, test_size =.20)\n",
        "vectorizer = CountVectorizer(preprocessor=text_clean, stop_words='english')\n",
        "ktrain = vectorizer.fit_transform(X_train)\n",
        "ktest = vectorizer.transform(X_test)\n",
        "\n",
        "model = LogisticRegression(C = 0.5, solver=\"liblinear\", multi_class=\"auto\")\n",
        "model.fit(ktrain, y_train)\n",
        "y_pred = model.predict(ktest)\n",
        "metrics.f1_score(y_test, y_pred)\n",
        "#metrics.accuracy_score(y_test, y_pred)\n",
        "\n",
        "#note - mild improvement using train_test_split"
      ],
      "execution_count": 68,
      "outputs": [
        {
          "output_type": "execute_result",
          "data": {
            "text/plain": [
              "0.7412467976088812"
            ]
          },
          "metadata": {},
          "execution_count": 68
        }
      ]
    },
    {
      "cell_type": "code",
      "metadata": {
        "colab": {
          "base_uri": "https://localhost:8080/"
        },
        "id": "SKdRrhwePy81",
        "outputId": "e9d4d30b-cef5-43ed-f8f7-ddb95b59222a"
      },
      "source": [
        "#CREDIT TO SOURCES\n",
        "#https://stackoverflow.com/questions/62591306/applying-k-fold-validation-for-text-classification\n",
        "\n",
        "from sklearn.model_selection import StratifiedKFold\n",
        "from sklearn.metrics import accuracy_score\n",
        "import numpy as np\n",
        "\n",
        "X, y = filter_td.text, filter_td.target\n",
        "metrics = []\n",
        "\n",
        "skf = StratifiedKFold(n_splits=5)\n",
        "for train_index, test_index in skf.split(X, y):\n",
        "    X_train, X_test = X[train_index], X[test_index]\n",
        "    y_train, y_test = y[train_index], y[test_index]\n",
        "\n",
        "    vect = CountVectorizer(preprocessor=text_clean, stop_words='english')\n",
        "    X_train_dtm = vect.fit_transform(X_train)\n",
        "    X_test_dtm = vect.transform(X_test)\n",
        "    lr = LogisticRegression(C = 0.5, solver=\"liblinear\", multi_class=\"auto\")\n",
        "    lr.fit(X_train_dtm, y_train)\n",
        "    y_pred_class = lr.predict(X_test_dtm)\n",
        "\n",
        "    metrics.append(accuracy_score(y_test, y_pred_class))\n",
        "\n",
        "metrics = np.array(metrics)\n",
        "print('Mean accuracy: ', np.mean(metrics, axis=0))\n",
        "print('Std for accuracy: ', np.std(metrics, axis=0))\n",
        "\n",
        "#stratified k fold performed way worse"
      ],
      "execution_count": 66,
      "outputs": [
        {
          "output_type": "stream",
          "name": "stdout",
          "text": [
            "Mean accuracy:  0.6885672427077412\n",
            "Std for accuracy:  0.04532189658216761\n"
          ]
        }
      ]
    },
    {
      "cell_type": "code",
      "metadata": {
        "colab": {
          "base_uri": "https://localhost:8080/"
        },
        "id": "hKElINkKer1Z",
        "outputId": "546cdd6f-0365-4fa1-90c9-2751ee53e146"
      },
      "source": [
        "#produce naive bayes model\n",
        "nb_model = MultinomialNB()\n",
        "start_time = time.time()  \n",
        "nb_model.fit(vtrain, train_l)\n",
        "nb_train_predicted_labels = nb_model.predict(vdev) \n",
        "stop_time = time.time()\n",
        "total_time = stop_time - start_time\n",
        "score_nb = metrics.f1_score(dev_labels, nb_train_predicted_labels, average='weighted')\n",
        "score_nb, total_time"
      ],
      "execution_count": null,
      "outputs": [
        {
          "output_type": "execute_result",
          "data": {
            "text/plain": [
              "(0.7638446993948937, 0.005049943923950195)"
            ]
          },
          "metadata": {},
          "execution_count": 77
        }
      ]
    }
  ]
}